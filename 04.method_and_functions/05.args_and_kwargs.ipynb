{
 "cells": [
  {
   "cell_type": "code",
   "execution_count": 5,
   "id": "b5a4b38a",
   "metadata": {},
   "outputs": [],
   "source": [
    "#   *args and **kwargs"
   ]
  },
  {
   "cell_type": "code",
   "execution_count": 36,
   "id": "89716e34",
   "metadata": {},
   "outputs": [],
   "source": [
    "# *arguments and **keyword arguments: arbitrarily accept argumemnts and \n",
    "# kwargs without predefining parameters in function\n",
    "\n",
    "\n",
    "#  *args saves a tuples\n",
    "#  **kwargs saves as dict\n"
   ]
  },
  {
   "cell_type": "code",
   "execution_count": 37,
   "id": "fe31ef8e",
   "metadata": {},
   "outputs": [],
   "source": [
    " def myfunc(a,b,c=0,d=0):   #sets default to 0 if only 2 arg are passed\n",
    "        #returns 5% of sum of a and b\n",
    "        return sum((a,b,c,d)) * 0.05   #sum(a,b) wont work, as (a,b) needs to be passed as tuple"
   ]
  },
  {
   "cell_type": "code",
   "execution_count": 38,
   "id": "2cc6e1b6",
   "metadata": {},
   "outputs": [
    {
     "data": {
      "text/plain": [
       "5.0"
      ]
     },
     "execution_count": 38,
     "metadata": {},
     "output_type": "execute_result"
    }
   ],
   "source": [
    "myfunc(40,60)"
   ]
  },
  {
   "cell_type": "code",
   "execution_count": null,
   "id": "fe59acc8",
   "metadata": {},
   "outputs": [],
   "source": []
  },
  {
   "cell_type": "code",
   "execution_count": 39,
   "id": "9b03a3db",
   "metadata": {},
   "outputs": [],
   "source": [
    "#using *args to print 5% of total of arguments passed\n",
    "\n",
    "def myfunc(*args):\n",
    "    print(args)\n",
    "    return sum(args)* 0.05\n",
    " "
   ]
  },
  {
   "cell_type": "code",
   "execution_count": 40,
   "id": "11985119",
   "metadata": {},
   "outputs": [
    {
     "name": "stdout",
     "output_type": "stream",
     "text": [
      "(4,)\n"
     ]
    },
    {
     "data": {
      "text/plain": [
       "0.2"
      ]
     },
     "execution_count": 40,
     "metadata": {},
     "output_type": "execute_result"
    }
   ],
   "source": [
    "myfunc(4)"
   ]
  },
  {
   "cell_type": "code",
   "execution_count": 41,
   "id": "95b8526d",
   "metadata": {},
   "outputs": [
    {
     "name": "stdout",
     "output_type": "stream",
     "text": [
      "(5, 5, 5)\n"
     ]
    },
    {
     "data": {
      "text/plain": [
       "0.75"
      ]
     },
     "execution_count": 41,
     "metadata": {},
     "output_type": "execute_result"
    }
   ],
   "source": [
    "myfunc(5,5,5)"
   ]
  },
  {
   "cell_type": "code",
   "execution_count": 42,
   "id": "708fe450",
   "metadata": {},
   "outputs": [
    {
     "data": {
      "text/plain": [
       "3.0"
      ]
     },
     "execution_count": 42,
     "metadata": {},
     "output_type": "execute_result"
    }
   ],
   "source": [
    "def myfunc(*poop): \n",
    "    return sum(poop)* 0.05\n",
    "\n",
    "myfunc(10,20,30)"
   ]
  },
  {
   "cell_type": "code",
   "execution_count": null,
   "id": "45cfa765",
   "metadata": {},
   "outputs": [],
   "source": []
  },
  {
   "cell_type": "code",
   "execution_count": 47,
   "id": "4c235ce2",
   "metadata": {},
   "outputs": [],
   "source": [
    "## **kwargs"
   ]
  },
  {
   "cell_type": "code",
   "execution_count": 48,
   "id": "af763dd3",
   "metadata": {},
   "outputs": [],
   "source": [
    "def myfunc(**kwargs):\n",
    "    print(kwargs)\n",
    "        "
   ]
  },
  {
   "cell_type": "code",
   "execution_count": 49,
   "id": "c28713e7",
   "metadata": {},
   "outputs": [
    {
     "name": "stdout",
     "output_type": "stream",
     "text": [
      "{'fruit': 'apple', 'vegggie': 'lettuce'}\n"
     ]
    }
   ],
   "source": [
    "myfunc(fruit=\"apple\", vegggie=\"lettuce\")"
   ]
  },
  {
   "cell_type": "code",
   "execution_count": 53,
   "id": "5b2f3659",
   "metadata": {},
   "outputs": [],
   "source": [
    "def myfunc(**kwargs):\n",
    "    print(kwargs)\n",
    "    if \"fruit\" in kwargs:\n",
    "        print(\"my fruit of choice is {}\".format(kwargs[\"fruit\"]))\n",
    "    else:\n",
    "        print(\"no fruit\")"
   ]
  },
  {
   "cell_type": "code",
   "execution_count": 56,
   "id": "d2d0ca4a",
   "metadata": {},
   "outputs": [
    {
     "name": "stdout",
     "output_type": "stream",
     "text": [
      "{'fruit': 'apple', 'vegggie': 'lettuce'}\n",
      "my fruit of choice is apple\n"
     ]
    }
   ],
   "source": [
    "myfunc(fruit=\"apple\", vegggie=\"lettuce\")"
   ]
  },
  {
   "cell_type": "code",
   "execution_count": null,
   "id": "ccd35f09",
   "metadata": {},
   "outputs": [],
   "source": []
  },
  {
   "cell_type": "code",
   "execution_count": 57,
   "id": "16ee9e45",
   "metadata": {},
   "outputs": [],
   "source": []
  },
  {
   "cell_type": "code",
   "execution_count": 60,
   "id": "d5f30995",
   "metadata": {},
   "outputs": [],
   "source": [
    "## combination of args and kwargs"
   ]
  },
  {
   "cell_type": "code",
   "execution_count": 61,
   "id": "b92d621d",
   "metadata": {},
   "outputs": [],
   "source": [
    "def myfunc(*args, **kwargs):\n",
    "    print (\"i would like {} {}\".format(args[0], kwargs[\"food\"]) )"
   ]
  },
  {
   "cell_type": "code",
   "execution_count": 62,
   "id": "8ef67b61",
   "metadata": {},
   "outputs": [
    {
     "name": "stdout",
     "output_type": "stream",
     "text": [
      "i would like 10 eggs\n"
     ]
    }
   ],
   "source": [
    "myfunc( 10,20,30, fruit=\"orange\", food=\"eggs\", animal=\"dogs\")"
   ]
  },
  {
   "cell_type": "code",
   "execution_count": null,
   "id": "6408cb43",
   "metadata": {},
   "outputs": [],
   "source": []
  },
  {
   "cell_type": "code",
   "execution_count": 63,
   "id": "f05dff8f",
   "metadata": {},
   "outputs": [
    {
     "ename": "SyntaxError",
     "evalue": "invalid syntax (Temp/ipykernel_17168/3536180313.py, line 1)",
     "output_type": "error",
     "traceback": [
      "\u001b[1;36m  File \u001b[1;32m\"C:\\Users\\Vandana\\AppData\\Local\\Temp/ipykernel_17168/3536180313.py\"\u001b[1;36m, line \u001b[1;32m1\u001b[0m\n\u001b[1;33m    return l=1+2\u001b[0m\n\u001b[1;37m            ^\u001b[0m\n\u001b[1;31mSyntaxError\u001b[0m\u001b[1;31m:\u001b[0m invalid syntax\n"
     ]
    }
   ],
   "source": [
    "\n"
   ]
  },
  {
   "cell_type": "code",
   "execution_count": null,
   "id": "016fd38f",
   "metadata": {},
   "outputs": [],
   "source": []
  }
 ],
 "metadata": {
  "kernelspec": {
   "display_name": "Python 3 (ipykernel)",
   "language": "python",
   "name": "python3"
  },
  "language_info": {
   "codemirror_mode": {
    "name": "ipython",
    "version": 3
   },
   "file_extension": ".py",
   "mimetype": "text/x-python",
   "name": "python",
   "nbconvert_exporter": "python",
   "pygments_lexer": "ipython3",
   "version": "3.9.7"
  }
 },
 "nbformat": 4,
 "nbformat_minor": 5
}
