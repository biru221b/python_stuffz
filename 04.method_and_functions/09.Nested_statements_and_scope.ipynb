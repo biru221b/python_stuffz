{
 "cells": [
  {
   "cell_type": "code",
   "execution_count": 1,
   "id": "1bc853de",
   "metadata": {},
   "outputs": [],
   "source": [
    "x = 25\n",
    "\n",
    "def printer():\n",
    "    x = 50\n",
    "    return x"
   ]
  },
  {
   "cell_type": "code",
   "execution_count": 2,
   "id": "ff73f83f",
   "metadata": {},
   "outputs": [
    {
     "name": "stdout",
     "output_type": "stream",
     "text": [
      "25\n"
     ]
    }
   ],
   "source": [
    "print(x)"
   ]
  },
  {
   "cell_type": "code",
   "execution_count": 3,
   "id": "e38310f1",
   "metadata": {},
   "outputs": [
    {
     "name": "stdout",
     "output_type": "stream",
     "text": [
      "50\n"
     ]
    }
   ],
   "source": [
    "\n",
    "print(printer())"
   ]
  },
  {
   "cell_type": "code",
   "execution_count": null,
   "id": "c0d0faa5",
   "metadata": {},
   "outputs": [],
   "source": []
  },
  {
   "cell_type": "markdown",
   "id": "6b2c9173",
   "metadata": {},
   "source": [
    "Python has a set of rules it follows to decide what variables (such as x in this case) you are referencing in your code. Lets break down the rules:\n",
    "\n",
    "This idea of scope in your code is very important to understand in order to properly assign and call variable names.\n",
    "\n",
    "In simple terms, the idea of scope can be described by 3 general rules:\n",
    "\n",
    "1. Name assignments will create or change local names by default.\n",
    "\n",
    "2. Name references search (at most) four scopes, these are:\n",
    "local\n",
    "enclosing functions\n",
    "global\n",
    "built-in\n",
    "\n",
    "3. Names declared in global and nonlocal statements map assigned names to enclosing module and function scopes."
   ]
  },
  {
   "cell_type": "markdown",
   "id": "2fb90c8b",
   "metadata": {},
   "source": [
    "L: Local — Names assigned in any way within a function (def or lambda), and not declared global in that function.\n",
    "\n",
    "E: Enclosing function locals — Names in the local scope of any and all enclosing functions (def or lambda), from inner to outer.\n",
    "\n",
    "G: Global (module) — Names assigned at the top-level of a module file, or declared global in a def within the file.\n",
    "\n",
    "B: Built-in (Python) — Names preassigned in the built-in names module : open, range, SyntaxError,..."
   ]
  },
  {
   "cell_type": "code",
   "execution_count": null,
   "id": "f99bf434",
   "metadata": {},
   "outputs": [],
   "source": []
  },
  {
   "cell_type": "code",
   "execution_count": 6,
   "id": "71db4b4b",
   "metadata": {},
   "outputs": [],
   "source": [
    "#local\n",
    "lambda num:num**2"
   ]
  },
  {
   "cell_type": "code",
   "execution_count": null,
   "id": "20f6203d",
   "metadata": {},
   "outputs": [],
   "source": []
  },
  {
   "cell_type": "code",
   "execution_count": 13,
   "id": "2a796e17",
   "metadata": {},
   "outputs": [
    {
     "name": "stdout",
     "output_type": "stream",
     "text": [
      "hello sammy\n"
     ]
    }
   ],
   "source": [
    "#enclosing  function locals\n",
    "\n",
    "name=\"this is a global string\"\n",
    "\n",
    "def greet():\n",
    "    name=\"sammy\"\n",
    "    \n",
    "    def hello():\n",
    "        print(\"hello \"+name)\n",
    "        \n",
    "    hello()\n",
    "    \n",
    "\n",
    "\n",
    "greet()"
   ]
  },
  {
   "cell_type": "code",
   "execution_count": 14,
   "id": "4f18ae55",
   "metadata": {},
   "outputs": [
    {
     "name": "stdout",
     "output_type": "stream",
     "text": [
      "hello this is a global string\n"
     ]
    }
   ],
   "source": [
    "name=\"this is a global string\"\n",
    "\n",
    "def greet():\n",
    "#     name=\"sammy\"\n",
    "    \n",
    "    def hello():\n",
    "        print(\"hello \"+name)\n",
    "        \n",
    "    hello()\n",
    "    \n",
    "\n",
    "\n",
    "greet()"
   ]
  },
  {
   "cell_type": "code",
   "execution_count": null,
   "id": "5306ecdd",
   "metadata": {},
   "outputs": [],
   "source": []
  },
  {
   "cell_type": "code",
   "execution_count": 15,
   "id": "124df889",
   "metadata": {},
   "outputs": [
    {
     "name": "stdout",
     "output_type": "stream",
     "text": [
      "hello hello i am  a local\n"
     ]
    }
   ],
   "source": [
    "name=\"this is a global string\"\n",
    "\n",
    "def greet():\n",
    "    #enclosing\n",
    "    name=\"sammy\"\n",
    "    \n",
    "    def hello():\n",
    "        #local\n",
    "        name=\"hello i am  a local\"\n",
    "        print(\"hello \"+name)\n",
    "        \n",
    "    hello()\n",
    "    \n",
    "\n",
    "\n",
    "greet()"
   ]
  },
  {
   "cell_type": "code",
   "execution_count": null,
   "id": "c70159ae",
   "metadata": {},
   "outputs": [],
   "source": []
  },
  {
   "cell_type": "markdown",
   "id": "5ec2061b",
   "metadata": {},
   "source": [
    "\n",
    "Built-in\n",
    "\n",
    "These are the built-in function names in Python (don't overwrite these!)"
   ]
  },
  {
   "cell_type": "code",
   "execution_count": 18,
   "id": "2f797b44",
   "metadata": {},
   "outputs": [
    {
     "data": {
      "text/plain": [
       "<function len(obj, /)>"
      ]
     },
     "execution_count": 18,
     "metadata": {},
     "output_type": "execute_result"
    }
   ],
   "source": [
    "#example\n",
    "len"
   ]
  },
  {
   "cell_type": "code",
   "execution_count": null,
   "id": "928201f7",
   "metadata": {},
   "outputs": [],
   "source": []
  },
  {
   "cell_type": "code",
   "execution_count": 24,
   "id": "e0aca017",
   "metadata": {},
   "outputs": [],
   "source": [
    "#local variables\n",
    "\n",
    "x=50\n",
    "\n",
    "def func(x):\n",
    "    print(f\"X is {x}\")\n",
    "    \n",
    "    #local reassignment\n",
    "    x=200\n",
    "    print(f\"i changed X locally to {x}\")"
   ]
  },
  {
   "cell_type": "code",
   "execution_count": 25,
   "id": "29782956",
   "metadata": {},
   "outputs": [
    {
     "name": "stdout",
     "output_type": "stream",
     "text": [
      "X is 50\n",
      "i changed X locally to 200\n"
     ]
    }
   ],
   "source": [
    "func(x)\n"
   ]
  },
  {
   "cell_type": "code",
   "execution_count": 26,
   "id": "4f2c2d30",
   "metadata": {},
   "outputs": [
    {
     "name": "stdout",
     "output_type": "stream",
     "text": [
      "50\n"
     ]
    }
   ],
   "source": [
    "print(x)"
   ]
  },
  {
   "cell_type": "code",
   "execution_count": null,
   "id": "53f30177",
   "metadata": {},
   "outputs": [],
   "source": []
  },
  {
   "cell_type": "code",
   "execution_count": 27,
   "id": "a046bfc5",
   "metadata": {},
   "outputs": [],
   "source": [
    "#Global Assignment"
   ]
  },
  {
   "cell_type": "code",
   "execution_count": 37,
   "id": "62604cce",
   "metadata": {},
   "outputs": [],
   "source": [
    "x=50\n",
    "\n",
    "def func():\n",
    "    global x\n",
    "    \n",
    "    print(f\"X is {x}\")\n",
    "    \n",
    "    #local reassignment on a global variable\n",
    "    x='new value'\n",
    "    \n",
    "    print(\"locally changed global x to {}\".format(x))"
   ]
  },
  {
   "cell_type": "code",
   "execution_count": 38,
   "id": "30643d43",
   "metadata": {},
   "outputs": [
    {
     "name": "stdout",
     "output_type": "stream",
     "text": [
      "50\n"
     ]
    }
   ],
   "source": [
    "print(x)"
   ]
  },
  {
   "cell_type": "code",
   "execution_count": 40,
   "id": "94ff072b",
   "metadata": {},
   "outputs": [
    {
     "name": "stdout",
     "output_type": "stream",
     "text": [
      "X is 50\n",
      "locally changed global x to new value\n"
     ]
    }
   ],
   "source": [
    "func()"
   ]
  },
  {
   "cell_type": "code",
   "execution_count": null,
   "id": "b74c6d96",
   "metadata": {},
   "outputs": [],
   "source": []
  },
  {
   "cell_type": "code",
   "execution_count": 41,
   "id": "8c5adeaa",
   "metadata": {},
   "outputs": [],
   "source": [
    "#instead of defining global, this is appropriate"
   ]
  },
  {
   "cell_type": "code",
   "execution_count": 43,
   "id": "2c6c3dad",
   "metadata": {},
   "outputs": [],
   "source": [
    "x=50\n",
    "\n",
    "def func(x):\n",
    "    \n",
    "    print(f\"X is {x}\")\n",
    "    \n",
    "    #local reassignment on a global variable\n",
    "    x='new value'\n",
    "    \n",
    "    print(\"locally changed global x to {}\".format(x))\n",
    "    return x"
   ]
  },
  {
   "cell_type": "code",
   "execution_count": 44,
   "id": "93699aaf",
   "metadata": {},
   "outputs": [
    {
     "name": "stdout",
     "output_type": "stream",
     "text": [
      "50\n"
     ]
    }
   ],
   "source": [
    "print(x)"
   ]
  },
  {
   "cell_type": "code",
   "execution_count": 46,
   "id": "a98fd412",
   "metadata": {},
   "outputs": [
    {
     "name": "stdout",
     "output_type": "stream",
     "text": [
      "X is 50\n",
      "locally changed global x to new value\n"
     ]
    }
   ],
   "source": [
    "x=func(x)"
   ]
  },
  {
   "cell_type": "code",
   "execution_count": 48,
   "id": "db63eaa8",
   "metadata": {},
   "outputs": [
    {
     "data": {
      "text/plain": [
       "'new value'"
      ]
     },
     "execution_count": 48,
     "metadata": {},
     "output_type": "execute_result"
    }
   ],
   "source": [
    "x"
   ]
  },
  {
   "cell_type": "code",
   "execution_count": null,
   "id": "2d57cf79",
   "metadata": {},
   "outputs": [],
   "source": []
  },
  {
   "cell_type": "code",
   "execution_count": null,
   "id": "d8deb7ce",
   "metadata": {},
   "outputs": [],
   "source": []
  },
  {
   "cell_type": "code",
   "execution_count": 42,
   "id": "96045c12",
   "metadata": {},
   "outputs": [
    {
     "name": "stdout",
     "output_type": "stream",
     "text": [
      "Before calling func(), x is:  50\n",
      "This function is now using the global x!\n",
      "Because of global x is:  50\n",
      "Ran func(), changed global x to 2\n",
      "Value of x (outside of func()) is:  2\n"
     ]
    }
   ],
   "source": [
    "x = 50\n",
    "\n",
    "def func():\n",
    "    global x\n",
    "    print('This function is now using the global x!')\n",
    "    print('Because of global x is: ', x)\n",
    "    x = 2\n",
    "    print('Ran func(), changed global x to', x)\n",
    "\n",
    "print('Before calling func(), x is: ', x)\n",
    "func()\n",
    "print('Value of x (outside of func()) is: ', x)"
   ]
  },
  {
   "cell_type": "code",
   "execution_count": null,
   "id": "7c61e44d",
   "metadata": {},
   "outputs": [],
   "source": []
  }
 ],
 "metadata": {
  "kernelspec": {
   "display_name": "Python 3 (ipykernel)",
   "language": "python",
   "name": "python3"
  },
  "language_info": {
   "codemirror_mode": {
    "name": "ipython",
    "version": 3
   },
   "file_extension": ".py",
   "mimetype": "text/x-python",
   "name": "python",
   "nbconvert_exporter": "python",
   "pygments_lexer": "ipython3",
   "version": "3.9.7"
  }
 },
 "nbformat": 4,
 "nbformat_minor": 5
}
