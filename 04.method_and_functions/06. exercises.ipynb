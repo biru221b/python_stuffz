{
 "cells": [
  {
   "cell_type": "markdown",
   "id": "27520811",
   "metadata": {},
   "source": [
    "Define a function called myfunc that takes in a string, and returns a matching string where every even letter is uppercase, and every odd letter is lowercase. Assume that the incoming string only contains letters, and don't worry about numbers, spaces or punctuation. The output string can start with either an uppercase or lowercase letter, so long as letters alternate throughout the string.\n",
    "\n",
    "To give an idea what the function would look like when tested:\n",
    "\n",
    "myfunc('Anthropomorphism')\n",
    "\n",
    "\n",
    "# Output: 'aNtHrOpOmOrPhIsM'"
   ]
  },
  {
   "cell_type": "code",
   "execution_count": 6,
   "id": "d0cda7fc",
   "metadata": {},
   "outputs": [],
   "source": [
    "#USE OF ENUM\n",
    "\n",
    "def myfunc(mystring):\n",
    "    result=\"\"\n",
    "    for x,y in enumerate(mystring):\n",
    "        if x%2==0:\n",
    "            result+= y.upper()\n",
    "        else:\n",
    "            result+= y.lower()\n",
    "    return result"
   ]
  },
  {
   "cell_type": "code",
   "execution_count": 7,
   "id": "9289339a",
   "metadata": {},
   "outputs": [
    {
     "data": {
      "text/plain": [
       "'AnThRoPoMoRpHiSm'"
      ]
     },
     "execution_count": 7,
     "metadata": {},
     "output_type": "execute_result"
    }
   ],
   "source": [
    "myfunc('Anthropomorphism')"
   ]
  },
  {
   "cell_type": "code",
   "execution_count": null,
   "id": "9f5a02bf",
   "metadata": {},
   "outputs": [],
   "source": []
  },
  {
   "cell_type": "code",
   "execution_count": null,
   "id": "da9b1b6c",
   "metadata": {},
   "outputs": [],
   "source": []
  },
  {
   "cell_type": "markdown",
   "id": "3d52ccea",
   "metadata": {},
   "source": [
    "Functions #9: pick evens\n",
    "Define a function called myfunc that takes in an arbitrary number of arguments, and returns a list containing only those arguments that are even.\n",
    "\n",
    "Remember, don't run the function, simply provide the definition.\n",
    "\n",
    "To give an idea what the function would look like when tested:\n",
    "\n",
    "myfunc(5,6,7,8)\n",
    "# Output: [6, 8]"
   ]
  },
  {
   "cell_type": "code",
   "execution_count": 3,
   "id": "b7f4f717",
   "metadata": {},
   "outputs": [],
   "source": [
    "def myfunc(*args):\n",
    "   l=[i for i in args if i%2==0]\n",
    "   return l"
   ]
  },
  {
   "cell_type": "code",
   "execution_count": 4,
   "id": "d8b07bcb",
   "metadata": {},
   "outputs": [
    {
     "data": {
      "text/plain": [
       "[6, 8]"
      ]
     },
     "execution_count": 4,
     "metadata": {},
     "output_type": "execute_result"
    }
   ],
   "source": [
    "myfunc(5,6,7,8)"
   ]
  },
  {
   "cell_type": "code",
   "execution_count": null,
   "id": "2d84e8d7",
   "metadata": {},
   "outputs": [],
   "source": []
  }
 ],
 "metadata": {
  "kernelspec": {
   "display_name": "Python 3 (ipykernel)",
   "language": "python",
   "name": "python3"
  },
  "language_info": {
   "codemirror_mode": {
    "name": "ipython",
    "version": 3
   },
   "file_extension": ".py",
   "mimetype": "text/x-python",
   "name": "python",
   "nbconvert_exporter": "python",
   "pygments_lexer": "ipython3",
   "version": "3.9.7"
  }
 },
 "nbformat": 4,
 "nbformat_minor": 5
}
