{
 "cells": [
  {
   "cell_type": "code",
   "execution_count": 4,
   "id": "70b07c6b",
   "metadata": {},
   "outputs": [],
   "source": [
    "#tuple unpacking"
   ]
  },
  {
   "cell_type": "code",
   "execution_count": 5,
   "id": "a55a992d",
   "metadata": {},
   "outputs": [],
   "source": [
    "stock_prices=[(\"apple\",200),(\"meta\", 250)]"
   ]
  },
  {
   "cell_type": "code",
   "execution_count": 6,
   "id": "1f988989",
   "metadata": {},
   "outputs": [
    {
     "name": "stdout",
     "output_type": "stream",
     "text": [
      "('apple', 200)\n",
      "('meta', 250)\n"
     ]
    }
   ],
   "source": [
    "for t in stock_prices:\n",
    "    print(t)"
   ]
  },
  {
   "cell_type": "code",
   "execution_count": 7,
   "id": "cd77744e",
   "metadata": {},
   "outputs": [
    {
     "name": "stdout",
     "output_type": "stream",
     "text": [
      "200\n",
      "250\n"
     ]
    }
   ],
   "source": [
    "for n,m in stock_prices:\n",
    "    print(m)"
   ]
  },
  {
   "cell_type": "code",
   "execution_count": null,
   "id": "f1eb4a7b",
   "metadata": {},
   "outputs": [],
   "source": [
    "\n"
   ]
  },
  {
   "cell_type": "code",
   "execution_count": null,
   "id": "92148480",
   "metadata": {},
   "outputs": [],
   "source": []
  },
  {
   "cell_type": "code",
   "execution_count": null,
   "id": "6fe28386",
   "metadata": {},
   "outputs": [],
   "source": [
    "#return employee of month"
   ]
  },
  {
   "cell_type": "code",
   "execution_count": 9,
   "id": "56cfb809",
   "metadata": {},
   "outputs": [],
   "source": [
    "work_hrs=[(\"abby\",100), (\"bill\",200)]\n",
    "        "
   ]
  },
  {
   "cell_type": "code",
   "execution_count": 11,
   "id": "6957f1a8",
   "metadata": {},
   "outputs": [],
   "source": [
    "def employee_check(work_hrs):\n",
    "    \n",
    "    current_max=0\n",
    "    employee_of_month=\"\"\n",
    "    \n",
    "    for employee,hrs in work_hrs:\n",
    "        if hrs>current_max:\n",
    "            current_max=hrs\n",
    "            employee_of_month=employee\n",
    "            \n",
    "        else:\n",
    "            pass\n",
    "            \n",
    "    return (employee_of_month, current_max)\n",
    "            "
   ]
  },
  {
   "cell_type": "code",
   "execution_count": 12,
   "id": "9d74890e",
   "metadata": {},
   "outputs": [
    {
     "data": {
      "text/plain": [
       "('bill', 200)"
      ]
     },
     "execution_count": 12,
     "metadata": {},
     "output_type": "execute_result"
    }
   ],
   "source": [
    "employee_check(work_hrs)"
   ]
  },
  {
   "cell_type": "code",
   "execution_count": 13,
   "id": "d2d70456",
   "metadata": {},
   "outputs": [],
   "source": [
    "name,hrs=employee_check(work_hrs)"
   ]
  },
  {
   "cell_type": "code",
   "execution_count": 14,
   "id": "807c00dc",
   "metadata": {},
   "outputs": [
    {
     "data": {
      "text/plain": [
       "'bill'"
      ]
     },
     "execution_count": 14,
     "metadata": {},
     "output_type": "execute_result"
    }
   ],
   "source": [
    "name"
   ]
  },
  {
   "cell_type": "code",
   "execution_count": 15,
   "id": "7c282fc3",
   "metadata": {},
   "outputs": [
    {
     "data": {
      "text/plain": [
       "200"
      ]
     },
     "execution_count": 15,
     "metadata": {},
     "output_type": "execute_result"
    }
   ],
   "source": [
    "hrs"
   ]
  },
  {
   "cell_type": "code",
   "execution_count": null,
   "id": "f1167e68",
   "metadata": {},
   "outputs": [],
   "source": []
  }
 ],
 "metadata": {
  "kernelspec": {
   "display_name": "Python 3 (ipykernel)",
   "language": "python",
   "name": "python3"
  },
  "language_info": {
   "codemirror_mode": {
    "name": "ipython",
    "version": 3
   },
   "file_extension": ".py",
   "mimetype": "text/x-python",
   "name": "python",
   "nbconvert_exporter": "python",
   "pygments_lexer": "ipython3",
   "version": "3.9.7"
  }
 },
 "nbformat": 4,
 "nbformat_minor": 5
}
