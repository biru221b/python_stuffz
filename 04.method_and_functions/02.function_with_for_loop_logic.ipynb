{
 "cells": [
  {
   "cell_type": "code",
   "execution_count": 1,
   "id": "57c122b0",
   "metadata": {},
   "outputs": [],
   "source": [
    "def even_check(n):\n",
    "    result=n%2==0\n",
    "    return result"
   ]
  },
  {
   "cell_type": "code",
   "execution_count": 2,
   "id": "d8c5a57e",
   "metadata": {},
   "outputs": [
    {
     "data": {
      "text/plain": [
       "False"
      ]
     },
     "execution_count": 2,
     "metadata": {},
     "output_type": "execute_result"
    }
   ],
   "source": [
    "even_check(5)"
   ]
  },
  {
   "cell_type": "code",
   "execution_count": 3,
   "id": "3e4da075",
   "metadata": {},
   "outputs": [],
   "source": [
    "def even_check(n):\n",
    "    return n%2==0"
   ]
  },
  {
   "cell_type": "code",
   "execution_count": 4,
   "id": "7d99bfbe",
   "metadata": {},
   "outputs": [
    {
     "data": {
      "text/plain": [
       "False"
      ]
     },
     "execution_count": 4,
     "metadata": {},
     "output_type": "execute_result"
    }
   ],
   "source": [
    "even_check(9)"
   ]
  },
  {
   "cell_type": "code",
   "execution_count": null,
   "id": "ccdbef23",
   "metadata": {},
   "outputs": [],
   "source": []
  },
  {
   "cell_type": "code",
   "execution_count": null,
   "id": "c1ffcc6d",
   "metadata": {},
   "outputs": [],
   "source": []
  },
  {
   "cell_type": "code",
   "execution_count": 24,
   "id": "918bb7ac",
   "metadata": {},
   "outputs": [],
   "source": [
    "#CHECK IF ANY NUMBER IS EVEN INSIDE A LIST\n"
   ]
  },
  {
   "cell_type": "code",
   "execution_count": 6,
   "id": "c7638ff1",
   "metadata": {},
   "outputs": [],
   "source": [
    "def  check_even_list(num_list):\n",
    "    for number in num_list:\n",
    "        if number%2==0:\n",
    "            return True\n",
    "        else:\n",
    "            pass"
   ]
  },
  {
   "cell_type": "code",
   "execution_count": 7,
   "id": "a4320777",
   "metadata": {},
   "outputs": [],
   "source": [
    "check_even_list([1,3,5])"
   ]
  },
  {
   "cell_type": "code",
   "execution_count": 8,
   "id": "00b28fc3",
   "metadata": {},
   "outputs": [
    {
     "data": {
      "text/plain": [
       "True"
      ]
     },
     "execution_count": 8,
     "metadata": {},
     "output_type": "execute_result"
    }
   ],
   "source": [
    "check_even_list([1,2,3])"
   ]
  },
  {
   "cell_type": "code",
   "execution_count": 9,
   "id": "653377de",
   "metadata": {},
   "outputs": [],
   "source": [
    "def  check_even_list(num_list):\n",
    "    for number in num_list:\n",
    "        if number%2==0:\n",
    "            return True\n",
    "        else:\n",
    "            return False #WRONG!!!!!!!! because checks only first element"
   ]
  },
  {
   "cell_type": "code",
   "execution_count": 25,
   "id": "2f2d3b20",
   "metadata": {},
   "outputs": [],
   "source": [
    "#correct code to run through all elements in a list\n",
    "\n",
    "def  check_even_list(num_list):\n",
    "    for number in num_list:\n",
    "        if number%2==0:\n",
    "            return True\n",
    "        else:\n",
    "            pass\n",
    "    return False\n"
   ]
  },
  {
   "cell_type": "code",
   "execution_count": 13,
   "id": "bc6fac48",
   "metadata": {},
   "outputs": [
    {
     "data": {
      "text/plain": [
       "False"
      ]
     },
     "execution_count": 13,
     "metadata": {},
     "output_type": "execute_result"
    }
   ],
   "source": [
    "check_even_list([1,3,5,7])"
   ]
  },
  {
   "cell_type": "code",
   "execution_count": null,
   "id": "4aafabed",
   "metadata": {},
   "outputs": [],
   "source": []
  },
  {
   "cell_type": "code",
   "execution_count": null,
   "id": "124ba616",
   "metadata": {},
   "outputs": [],
   "source": []
  },
  {
   "cell_type": "code",
   "execution_count": 15,
   "id": "4950c7c0",
   "metadata": {},
   "outputs": [],
   "source": [
    "#Return all even numbers in a list"
   ]
  },
  {
   "cell_type": "code",
   "execution_count": 18,
   "id": "f3060ccc",
   "metadata": {},
   "outputs": [],
   "source": [
    "def  check_even_list(num_list):\n",
    "    \n",
    "    #placeholder variable\n",
    "    even_num=[]\n",
    "    \n",
    "    for number in num_list:\n",
    "        if number%2==0:\n",
    "            even_num.append(number)\n",
    "           \n",
    "        else:\n",
    "            pass\n",
    "    return even_num\n",
    "    "
   ]
  },
  {
   "cell_type": "code",
   "execution_count": 20,
   "id": "96887c9f",
   "metadata": {},
   "outputs": [
    {
     "data": {
      "text/plain": [
       "[8]"
      ]
     },
     "execution_count": 20,
     "metadata": {},
     "output_type": "execute_result"
    }
   ],
   "source": [
    "check_even_list([1, 3, 5, 8])"
   ]
  },
  {
   "cell_type": "code",
   "execution_count": 21,
   "id": "9e6cd136",
   "metadata": {},
   "outputs": [
    {
     "data": {
      "text/plain": [
       "[]"
      ]
     },
     "execution_count": 21,
     "metadata": {},
     "output_type": "execute_result"
    }
   ],
   "source": [
    "check_even_list([1, 3, 5, 7])"
   ]
  },
  {
   "cell_type": "code",
   "execution_count": null,
   "id": "420d1ae6",
   "metadata": {},
   "outputs": [],
   "source": []
  }
 ],
 "metadata": {
  "kernelspec": {
   "display_name": "Python 3 (ipykernel)",
   "language": "python",
   "name": "python3"
  },
  "language_info": {
   "codemirror_mode": {
    "name": "ipython",
    "version": 3
   },
   "file_extension": ".py",
   "mimetype": "text/x-python",
   "name": "python",
   "nbconvert_exporter": "python",
   "pygments_lexer": "ipython3",
   "version": "3.9.7"
  }
 },
 "nbformat": 4,
 "nbformat_minor": 5
}
