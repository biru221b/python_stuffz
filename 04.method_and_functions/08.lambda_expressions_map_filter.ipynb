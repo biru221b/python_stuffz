{
 "cells": [
  {
   "cell_type": "markdown",
   "id": "e4e11b29",
   "metadata": {},
   "source": [
    "map function:\n",
    "The map function allows you to \"map\" a function to an iterable object. That is to say you can quickly call the same function to every item in an iterable, such as a list. For example:\n"
   ]
  },
  {
   "cell_type": "code",
   "execution_count": 5,
   "id": "617e868f",
   "metadata": {},
   "outputs": [
    {
     "data": {
      "text/plain": [
       "map"
      ]
     },
     "execution_count": 5,
     "metadata": {},
     "output_type": "execute_result"
    }
   ],
   "source": [
    "map"
   ]
  },
  {
   "cell_type": "code",
   "execution_count": null,
   "id": "e16247d9",
   "metadata": {},
   "outputs": [],
   "source": []
  },
  {
   "cell_type": "code",
   "execution_count": 1,
   "id": "f30735da",
   "metadata": {},
   "outputs": [],
   "source": [
    "def square(num):\n",
    "    return num**2"
   ]
  },
  {
   "cell_type": "code",
   "execution_count": 2,
   "id": "663ec13e",
   "metadata": {},
   "outputs": [],
   "source": [
    "my_nums=[1,2,3,4,5]\n"
   ]
  },
  {
   "cell_type": "code",
   "execution_count": 14,
   "id": "998258cb",
   "metadata": {},
   "outputs": [
    {
     "data": {
      "text/plain": [
       "<map at 0x1d1e275a9d0>"
      ]
     },
     "execution_count": 14,
     "metadata": {},
     "output_type": "execute_result"
    }
   ],
   "source": [
    "map(square, my_nums)"
   ]
  },
  {
   "cell_type": "code",
   "execution_count": 6,
   "id": "4e0b462d",
   "metadata": {},
   "outputs": [
    {
     "name": "stdout",
     "output_type": "stream",
     "text": [
      "1\n",
      "4\n",
      "9\n",
      "16\n",
      "25\n"
     ]
    }
   ],
   "source": [
    "# To get the results, either iterate through map() \n",
    "# or just cast to a list\n",
    "\n",
    "for x in map(square, my_nums):\n",
    "    print(x)\n",
    "    \n",
    "    "
   ]
  },
  {
   "cell_type": "code",
   "execution_count": 7,
   "id": "edb41566",
   "metadata": {},
   "outputs": [
    {
     "data": {
      "text/plain": [
       "[1, 4, 9, 16, 25]"
      ]
     },
     "execution_count": 7,
     "metadata": {},
     "output_type": "execute_result"
    }
   ],
   "source": [
    "list(map(square,my_nums))"
   ]
  },
  {
   "cell_type": "code",
   "execution_count": null,
   "id": "eb03d7cf",
   "metadata": {},
   "outputs": [],
   "source": []
  },
  {
   "cell_type": "code",
   "execution_count": 8,
   "id": "0baab030",
   "metadata": {},
   "outputs": [],
   "source": [
    "def splicer(mystring):\n",
    "    if len(mystring)%2==0:\n",
    "        return \"even length\"\n",
    "    else:\n",
    "        return mystring[0]"
   ]
  },
  {
   "cell_type": "code",
   "execution_count": 11,
   "id": "c36b1e7c",
   "metadata": {},
   "outputs": [],
   "source": [
    "names=[\"andy\", \"eve\",\"sarah\"]"
   ]
  },
  {
   "cell_type": "code",
   "execution_count": 12,
   "id": "6638257a",
   "metadata": {},
   "outputs": [
    {
     "data": {
      "text/plain": [
       "['even length', 'e', 's']"
      ]
     },
     "execution_count": 12,
     "metadata": {},
     "output_type": "execute_result"
    }
   ],
   "source": [
    "list( map( splicer, names))"
   ]
  },
  {
   "cell_type": "code",
   "execution_count": null,
   "id": "46d81c7e",
   "metadata": {},
   "outputs": [],
   "source": []
  },
  {
   "cell_type": "code",
   "execution_count": null,
   "id": "d8f08105",
   "metadata": {},
   "outputs": [],
   "source": []
  },
  {
   "cell_type": "markdown",
   "id": "c7371b7a",
   "metadata": {},
   "source": [
    "filter function:\n",
    "The filter function returns an iterator yielding those items of iterable for which function(item) is true. Meaning you need to filter by a function that returns either True or False. Then passing that into filter (along with your iterable) and you will get back only the results that would return True when passed to the function."
   ]
  },
  {
   "cell_type": "code",
   "execution_count": 19,
   "id": "1fcdbaac",
   "metadata": {},
   "outputs": [],
   "source": [
    "def check_even(num):\n",
    "    return num%2==0"
   ]
  },
  {
   "cell_type": "code",
   "execution_count": 20,
   "id": "1b3de04a",
   "metadata": {},
   "outputs": [],
   "source": [
    "mynums=[1,2,3,4,5]"
   ]
  },
  {
   "cell_type": "code",
   "execution_count": 18,
   "id": "692a5ee9",
   "metadata": {},
   "outputs": [
    {
     "data": {
      "text/plain": [
       "[2, 4]"
      ]
     },
     "execution_count": 18,
     "metadata": {},
     "output_type": "execute_result"
    }
   ],
   "source": [
    "list(filter(check_even, mynums))"
   ]
  },
  {
   "cell_type": "code",
   "execution_count": 22,
   "id": "972d48e4",
   "metadata": {},
   "outputs": [
    {
     "name": "stdout",
     "output_type": "stream",
     "text": [
      "2\n",
      "4\n"
     ]
    }
   ],
   "source": [
    "for n in filter(check_even, mynums):\n",
    "    print(n)"
   ]
  },
  {
   "cell_type": "code",
   "execution_count": null,
   "id": "a5b0fff9",
   "metadata": {},
   "outputs": [],
   "source": []
  },
  {
   "cell_type": "markdown",
   "id": "48647ea8",
   "metadata": {},
   "source": [
    "#lambda functions:\n",
    "\n",
    "lambda expressions allow us to create \"anonymous\" functions. This basically means we can quickly make ad-hoc functions without needing to properly define a function using def.\n"
   ]
  },
  {
   "cell_type": "markdown",
   "id": "29c3fb94",
   "metadata": {},
   "source": [
    "lambda's body is a single expression, not a block of statements.\n",
    "\n",
    "The lambda's body is similar to what we would put in a def body's return statement. We simply type the result as an expression instead of explicitly returning it."
   ]
  },
  {
   "cell_type": "markdown",
   "id": "7a868f67",
   "metadata": {},
   "source": [
    "Lets slowly break down a lambda expression by deconstructing a function:"
   ]
  },
  {
   "cell_type": "code",
   "execution_count": 24,
   "id": "bff3a805",
   "metadata": {},
   "outputs": [],
   "source": [
    "def square(num):\n",
    "    result = num**2\n",
    "    return result"
   ]
  },
  {
   "cell_type": "code",
   "execution_count": 28,
   "id": "f380c66f",
   "metadata": {},
   "outputs": [],
   "source": [
    "def square(num):\n",
    "    return num**2"
   ]
  },
  {
   "cell_type": "code",
   "execution_count": 26,
   "id": "e03361f6",
   "metadata": {},
   "outputs": [],
   "source": [
    "def square(num): return num**2"
   ]
  },
  {
   "cell_type": "code",
   "execution_count": 29,
   "id": "ef1d75fd",
   "metadata": {},
   "outputs": [
    {
     "data": {
      "text/plain": [
       "16"
      ]
     },
     "execution_count": 29,
     "metadata": {},
     "output_type": "execute_result"
    }
   ],
   "source": [
    "square(4)"
   ]
  },
  {
   "cell_type": "markdown",
   "id": "a612df17",
   "metadata": {},
   "source": [
    "using lambda expression"
   ]
  },
  {
   "cell_type": "code",
   "execution_count": 30,
   "id": "db088a61",
   "metadata": {},
   "outputs": [
    {
     "data": {
      "text/plain": [
       "<function __main__.<lambda>(num)>"
      ]
     },
     "execution_count": 30,
     "metadata": {},
     "output_type": "execute_result"
    }
   ],
   "source": [
    "\n",
    "lambda num: num ** 2\n"
   ]
  },
  {
   "cell_type": "code",
   "execution_count": 31,
   "id": "5701d250",
   "metadata": {},
   "outputs": [],
   "source": [
    "# You wouldn't usually assign a name to a lambda expression, this is just for demonstration!\n",
    "square = lambda num: num **2"
   ]
  },
  {
   "cell_type": "code",
   "execution_count": 32,
   "id": "1fde2179",
   "metadata": {},
   "outputs": [
    {
     "data": {
      "text/plain": [
       "4"
      ]
     },
     "execution_count": 32,
     "metadata": {},
     "output_type": "execute_result"
    }
   ],
   "source": [
    "square(2)"
   ]
  },
  {
   "cell_type": "code",
   "execution_count": null,
   "id": "d963b5f3",
   "metadata": {},
   "outputs": [],
   "source": []
  },
  {
   "cell_type": "code",
   "execution_count": 34,
   "id": "d48728ba",
   "metadata": {},
   "outputs": [
    {
     "data": {
      "text/plain": [
       "[1, 4, 9, 16, 25]"
      ]
     },
     "execution_count": 34,
     "metadata": {},
     "output_type": "execute_result"
    }
   ],
   "source": [
    "#using map for lambda to print squares\n",
    "list(map(lambda num: num ** 2, my_nums))"
   ]
  },
  {
   "cell_type": "code",
   "execution_count": null,
   "id": "cba589db",
   "metadata": {},
   "outputs": [],
   "source": []
  },
  {
   "cell_type": "code",
   "execution_count": 37,
   "id": "68528eb8",
   "metadata": {},
   "outputs": [
    {
     "data": {
      "text/plain": [
       "[2, 4]"
      ]
     },
     "execution_count": 37,
     "metadata": {},
     "output_type": "execute_result"
    }
   ],
   "source": [
    "#using filter t check even \n",
    "list(filter(lambda n: n % 2 == 0,mynums))"
   ]
  },
  {
   "cell_type": "code",
   "execution_count": null,
   "id": "a48dc39d",
   "metadata": {},
   "outputs": [],
   "source": []
  },
  {
   "cell_type": "code",
   "execution_count": null,
   "id": "fff7c561",
   "metadata": {},
   "outputs": [],
   "source": []
  },
  {
   "cell_type": "code",
   "execution_count": 41,
   "id": "60d1605f",
   "metadata": {},
   "outputs": [],
   "source": [
    "names=[\"julia\", \"meeru\"]"
   ]
  },
  {
   "cell_type": "code",
   "execution_count": 42,
   "id": "ac6e4a44",
   "metadata": {},
   "outputs": [
    {
     "data": {
      "text/plain": [
       "['j', 'm']"
      ]
     },
     "execution_count": 42,
     "metadata": {},
     "output_type": "execute_result"
    }
   ],
   "source": [
    "#print first char of string\n",
    "\n",
    "list(map(lambda s: s[0], names))\n",
    "\n"
   ]
  },
  {
   "cell_type": "code",
   "execution_count": null,
   "id": "1a4e7760",
   "metadata": {},
   "outputs": [],
   "source": []
  },
  {
   "cell_type": "code",
   "execution_count": 44,
   "id": "2c03f0a8",
   "metadata": {},
   "outputs": [
    {
     "data": {
      "text/plain": [
       "['ailuj', 'ureem']"
      ]
     },
     "execution_count": 44,
     "metadata": {},
     "output_type": "execute_result"
    }
   ],
   "source": [
    "#reverse string using lambda\n",
    "\n",
    "list(map(lambda s: s[::-1], names))"
   ]
  },
  {
   "cell_type": "code",
   "execution_count": null,
   "id": "1f2e6925",
   "metadata": {},
   "outputs": [],
   "source": []
  },
  {
   "cell_type": "code",
   "execution_count": 45,
   "id": "334bfd76",
   "metadata": {},
   "outputs": [
    {
     "data": {
      "text/plain": [
       "<function __main__.<lambda>(x, y)>"
      ]
     },
     "execution_count": 45,
     "metadata": {},
     "output_type": "execute_result"
    }
   ],
   "source": [
    "#passing multiple expressions also \n",
    "\n",
    "lambda x,y : x + y\n",
    "\n"
   ]
  },
  {
   "cell_type": "code",
   "execution_count": null,
   "id": "2248d92a",
   "metadata": {},
   "outputs": [],
   "source": []
  },
  {
   "cell_type": "code",
   "execution_count": null,
   "id": "0c1e508b",
   "metadata": {},
   "outputs": [],
   "source": []
  }
 ],
 "metadata": {
  "kernelspec": {
   "display_name": "Python 3 (ipykernel)",
   "language": "python",
   "name": "python3"
  },
  "language_info": {
   "codemirror_mode": {
    "name": "ipython",
    "version": 3
   },
   "file_extension": ".py",
   "mimetype": "text/x-python",
   "name": "python",
   "nbconvert_exporter": "python",
   "pygments_lexer": "ipython3",
   "version": "3.9.7"
  }
 },
 "nbformat": 4,
 "nbformat_minor": 5
}
