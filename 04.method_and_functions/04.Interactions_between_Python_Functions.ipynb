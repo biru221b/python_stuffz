{
 "cells": [
  {
   "cell_type": "code",
   "execution_count": 1,
   "id": "d0751389",
   "metadata": {},
   "outputs": [],
   "source": [
    "#LIST SHUFFLING \n"
   ]
  },
  {
   "cell_type": "code",
   "execution_count": 2,
   "id": "0987f19b",
   "metadata": {},
   "outputs": [],
   "source": [
    "example=[1,2,3,4]"
   ]
  },
  {
   "cell_type": "code",
   "execution_count": 3,
   "id": "e79e53ca",
   "metadata": {},
   "outputs": [],
   "source": [
    "from random import shuffle"
   ]
  },
  {
   "cell_type": "code",
   "execution_count": 4,
   "id": "6f6d43dc",
   "metadata": {},
   "outputs": [
    {
     "data": {
      "text/plain": [
       "[3, 4, 2, 1]"
      ]
     },
     "execution_count": 4,
     "metadata": {},
     "output_type": "execute_result"
    }
   ],
   "source": [
    "shuffle(example)\n",
    "example"
   ]
  },
  {
   "cell_type": "code",
   "execution_count": null,
   "id": "93c664ae",
   "metadata": {},
   "outputs": [],
   "source": []
  },
  {
   "cell_type": "code",
   "execution_count": null,
   "id": "4eccdb6f",
   "metadata": {},
   "outputs": [],
   "source": []
  },
  {
   "cell_type": "code",
   "execution_count": 5,
   "id": "cc9d040b",
   "metadata": {},
   "outputs": [],
   "source": [
    "#LIST   SHUFFLING   GAME\n"
   ]
  },
  {
   "cell_type": "code",
   "execution_count": 6,
   "id": "24753239",
   "metadata": {},
   "outputs": [],
   "source": [
    "def shuffle_list(mylist):\n",
    "    shuffle(mylist)\n",
    "    return mylist"
   ]
  },
  {
   "cell_type": "code",
   "execution_count": 7,
   "id": "b9943c52",
   "metadata": {},
   "outputs": [],
   "source": [
    "mylist=[\"  \" ,  0  , \"  \"]"
   ]
  },
  {
   "cell_type": "code",
   "execution_count": 8,
   "id": "425b2170",
   "metadata": {},
   "outputs": [
    {
     "data": {
      "text/plain": [
       "[0, '  ', '  ']"
      ]
     },
     "execution_count": 8,
     "metadata": {},
     "output_type": "execute_result"
    }
   ],
   "source": [
    "shuffle_list(mylist)"
   ]
  },
  {
   "cell_type": "code",
   "execution_count": 9,
   "id": "0eed5803",
   "metadata": {},
   "outputs": [],
   "source": [
    "def player_guess():\n",
    "    \n",
    "    guess= \" \"\n",
    "    \n",
    "    while guess not in [\"0\",\"1\",\"2\"]:\n",
    "        guess = input(\"pick number: 0,1 or 2 \")\n",
    "        \n",
    "    return int(guess)\n",
    "        "
   ]
  },
  {
   "cell_type": "code",
   "execution_count": 10,
   "id": "92346dcc",
   "metadata": {},
   "outputs": [
    {
     "name": "stdout",
     "output_type": "stream",
     "text": [
      "pick number: 0,1 or 2 4\n",
      "pick number: 0,1 or 2 2\n"
     ]
    },
    {
     "data": {
      "text/plain": [
       "2"
      ]
     },
     "execution_count": 10,
     "metadata": {},
     "output_type": "execute_result"
    }
   ],
   "source": [
    "player_guess()"
   ]
  },
  {
   "cell_type": "code",
   "execution_count": 11,
   "id": "4c47a6bc",
   "metadata": {},
   "outputs": [],
   "source": [
    "myindex= player_guess"
   ]
  },
  {
   "cell_type": "code",
   "execution_count": 12,
   "id": "61c93f14",
   "metadata": {},
   "outputs": [],
   "source": [
    "def check_guess(mylist, guess):\n",
    "    if mylist[guess]==0:\n",
    "        print(\"correct!\")\n",
    "    else:\n",
    "        print(\"wrong guess!\")\n",
    "        print(mylist)\n",
    "        \n",
    "    "
   ]
  },
  {
   "cell_type": "code",
   "execution_count": 13,
   "id": "b4add82f",
   "metadata": {},
   "outputs": [
    {
     "name": "stdout",
     "output_type": "stream",
     "text": [
      "pick number: 0,1 or 2 4\n",
      "pick number: 0,1 or 2 0\n",
      "wrong guess!\n",
      "['  ', '  ', 0]\n"
     ]
    }
   ],
   "source": [
    "#Initial list\n",
    "mylist=[\"  \", 0, \"  \"]\n",
    "\n",
    "#shuffle list\n",
    "mixedup_list= shuffle_list(mylist)\n",
    "\n",
    "#user guess\n",
    "guess= player_guess()\n",
    "\n",
    "#check_guess\n",
    "check_guess(mixedup_list,guess)"
   ]
  },
  {
   "cell_type": "code",
   "execution_count": null,
   "id": "918292c8",
   "metadata": {},
   "outputs": [],
   "source": []
  }
 ],
 "metadata": {
  "kernelspec": {
   "display_name": "Python 3 (ipykernel)",
   "language": "python",
   "name": "python3"
  },
  "language_info": {
   "codemirror_mode": {
    "name": "ipython",
    "version": 3
   },
   "file_extension": ".py",
   "mimetype": "text/x-python",
   "name": "python",
   "nbconvert_exporter": "python",
   "pygments_lexer": "ipython3",
   "version": "3.9.7"
  }
 },
 "nbformat": 4,
 "nbformat_minor": 5
}
