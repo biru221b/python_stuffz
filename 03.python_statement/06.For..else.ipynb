{
 "cells": [
  {
   "cell_type": "code",
   "execution_count": 1,
   "id": "c1d01b26",
   "metadata": {},
   "outputs": [
    {
     "name": "stdout",
     "output_type": "stream",
     "text": [
      "Found an even number: 2\n"
     ]
    }
   ],
   "source": [
    "numbers = [1, 2, 3, 4, 5]\n",
    "\n",
    "# Check if there is an even number\n",
    "for num in numbers:\n",
    "    if num % 2 == 0:\n",
    "        print(f\"Found an even number: {num}\")\n",
    "        break\n",
    "else:\n",
    "    print(\"No even numbers found\")"
   ]
  },
  {
   "cell_type": "markdown",
   "id": "66d6ea01",
   "metadata": {},
   "source": [
    "The else block runs only if the loop finishes normally (without a break).\n",
    "\n",
    "If the loop hits a break, the else is skipped."
   ]
  }
 ],
 "metadata": {
  "kernelspec": {
   "display_name": "Python 3 (ipykernel)",
   "language": "python",
   "name": "python3"
  },
  "language_info": {
   "codemirror_mode": {
    "name": "ipython",
    "version": 3
   },
   "file_extension": ".py",
   "mimetype": "text/x-python",
   "name": "python",
   "nbconvert_exporter": "python",
   "pygments_lexer": "ipython3",
   "version": "3.9.7"
  }
 },
 "nbformat": 4,
 "nbformat_minor": 5
}
