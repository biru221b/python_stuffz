{
 "cells": [
  {
   "cell_type": "code",
   "execution_count": 1,
   "id": "b0b71407",
   "metadata": {},
   "outputs": [],
   "source": [
    "#colon and indentation system in python "
   ]
  },
  {
   "cell_type": "markdown",
   "id": "64db6af3",
   "metadata": {},
   "source": [
    "#if\n",
    "if some_condition:\n",
    "    #execute some code\n",
    "elif condition\n",
    "    #different\n",
    "else:\n",
    "    #else statement"
   ]
  },
  {
   "cell_type": "code",
   "execution_count": 3,
   "id": "6be03c49",
   "metadata": {},
   "outputs": [
    {
     "name": "stdout",
     "output_type": "stream",
     "text": [
      "it is true\n"
     ]
    }
   ],
   "source": [
    "if True:\n",
    "    print(\"it is true\")"
   ]
  },
  {
   "cell_type": "code",
   "execution_count": 4,
   "id": "8e4be969",
   "metadata": {},
   "outputs": [
    {
     "name": "stdout",
     "output_type": "stream",
     "text": [
      "it is true\n"
     ]
    }
   ],
   "source": [
    "if 3>2:\n",
    "    print(\"it is true\")"
   ]
  },
  {
   "cell_type": "code",
   "execution_count": 6,
   "id": "d9d0e8ab",
   "metadata": {},
   "outputs": [
    {
     "name": "stdout",
     "output_type": "stream",
     "text": [
      "not hungry\n"
     ]
    }
   ],
   "source": [
    "hungry=False\n",
    "if hungry:\n",
    "    print(\"feed me\")\n",
    "else:\n",
    "    print(\"not hungry\")"
   ]
  },
  {
   "cell_type": "code",
   "execution_count": 11,
   "id": "76bc7f65",
   "metadata": {},
   "outputs": [
    {
     "name": "stdout",
     "output_type": "stream",
     "text": [
      "money\n"
     ]
    }
   ],
   "source": [
    "loc=\"bank\"\n",
    "if loc==\"autoshop\":\n",
    "    print(\"cars are cool\")\n",
    "elif loc==\"bank\":\n",
    "    print(\"money\")\n",
    "elif loc==\"pawnshop\":\n",
    "    print(\"exchange\")\n",
    "else:\n",
    "    print(\"i dont know\")"
   ]
  },
  {
   "cell_type": "code",
   "execution_count": null,
   "id": "f244fcca",
   "metadata": {},
   "outputs": [],
   "source": []
  }
 ],
 "metadata": {
  "kernelspec": {
   "display_name": "Python 3 (ipykernel)",
   "language": "python",
   "name": "python3"
  },
  "language_info": {
   "codemirror_mode": {
    "name": "ipython",
    "version": 3
   },
   "file_extension": ".py",
   "mimetype": "text/x-python",
   "name": "python",
   "nbconvert_exporter": "python",
   "pygments_lexer": "ipython3",
   "version": "3.9.7"
  }
 },
 "nbformat": 4,
 "nbformat_minor": 5
}
