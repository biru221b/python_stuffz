{
 "cells": [
  {
   "cell_type": "code",
   "execution_count": 1,
   "id": "0beba97a",
   "metadata": {},
   "outputs": [],
   "source": [
    "#text files"
   ]
  },
  {
   "cell_type": "code",
   "execution_count": null,
   "id": "78fe9cc2",
   "metadata": {},
   "outputs": [],
   "source": [
    "#in jupyter, %% is used"
   ]
  },
  {
   "cell_type": "code",
   "execution_count": 1,
   "id": "b322ba35",
   "metadata": {},
   "outputs": [
    {
     "name": "stdout",
     "output_type": "stream",
     "text": [
      "Overwriting myfile.txt\n"
     ]
    }
   ],
   "source": [
    "%%writefile myfile.txt\n",
    "Hello, this is a text file\n",
    "this is the 2nd line\n",
    "this is 3rd line"
   ]
  },
  {
   "cell_type": "code",
   "execution_count": 2,
   "id": "fbf8223e",
   "metadata": {},
   "outputs": [],
   "source": [
    "myfile=open(\"myfile.txt\")"
   ]
  },
  {
   "cell_type": "code",
   "execution_count": 6,
   "id": "6fdb1f64",
   "metadata": {},
   "outputs": [
    {
     "ename": "FileNotFoundError",
     "evalue": "[Errno 2] No such file or directory: 'bjsab.txt'",
     "output_type": "error",
     "traceback": [
      "\u001b[1;31m---------------------------------------------------------------------------\u001b[0m",
      "\u001b[1;31mFileNotFoundError\u001b[0m                         Traceback (most recent call last)",
      "\u001b[1;32m~\\AppData\\Local\\Temp/ipykernel_1204/3040034092.py\u001b[0m in \u001b[0;36m<module>\u001b[1;34m\u001b[0m\n\u001b[1;32m----> 1\u001b[1;33m \u001b[0mmyfile\u001b[0m\u001b[1;33m=\u001b[0m\u001b[0mopen\u001b[0m\u001b[1;33m(\u001b[0m\u001b[1;34m\"bjsab.txt\"\u001b[0m\u001b[1;33m)\u001b[0m\u001b[1;33m\u001b[0m\u001b[1;33m\u001b[0m\u001b[0m\n\u001b[0m",
      "\u001b[1;31mFileNotFoundError\u001b[0m: [Errno 2] No such file or directory: 'bjsab.txt'"
     ]
    }
   ],
   "source": [
    "myfile=open(\"bjsab.txt\")"
   ]
  },
  {
   "cell_type": "code",
   "execution_count": 26,
   "id": "d59dad59",
   "metadata": {},
   "outputs": [
    {
     "data": {
      "text/plain": [
       "'C:\\\\Users\\\\Vandana\\\\Downloads\\\\pythonstuffs'"
      ]
     },
     "execution_count": 26,
     "metadata": {},
     "output_type": "execute_result"
    }
   ],
   "source": [
    "%pwd\n",
    "#locates current directory"
   ]
  },
  {
   "cell_type": "code",
   "execution_count": 8,
   "id": "d5c6ff53",
   "metadata": {},
   "outputs": [],
   "source": [
    "myfile=open(\"myfile.txt\")\n",
    "#grabs the file"
   ]
  },
  {
   "cell_type": "code",
   "execution_count": 10,
   "id": "8415a34f",
   "metadata": {},
   "outputs": [
    {
     "data": {
      "text/plain": [
       "'Hello, this is a text file\\nthis is the 2nd line\\nthis is 3rd line\\n'"
      ]
     },
     "execution_count": 10,
     "metadata": {},
     "output_type": "execute_result"
    }
   ],
   "source": [
    "myfile.read()\n",
    "#reads in a single string, so uses \\n for new lines"
   ]
  },
  {
   "cell_type": "code",
   "execution_count": 11,
   "id": "6451afbf",
   "metadata": {},
   "outputs": [
    {
     "data": {
      "text/plain": [
       "''"
      ]
     },
     "execution_count": 11,
     "metadata": {},
     "output_type": "execute_result"
    }
   ],
   "source": [
    "myfile.read()\n"
   ]
  },
  {
   "cell_type": "markdown",
   "id": "c40f09d1",
   "metadata": {},
   "source": [
    "This happens because you can imagine the reading \"cursor\" is at the end of the file after having read it. So there is nothing left to read. We can reset the \"cursor\" like this:"
   ]
  },
  {
   "cell_type": "code",
   "execution_count": 12,
   "id": "06297ff9",
   "metadata": {},
   "outputs": [
    {
     "data": {
      "text/plain": [
       "0"
      ]
     },
     "execution_count": 12,
     "metadata": {},
     "output_type": "execute_result"
    }
   ],
   "source": [
    "myfile.seek(0)"
   ]
  },
  {
   "cell_type": "code",
   "execution_count": 13,
   "id": "411df8fc",
   "metadata": {},
   "outputs": [
    {
     "data": {
      "text/plain": [
       "'Hello, this is a text file\\nthis is the 2nd line\\nthis is 3rd line\\n'"
      ]
     },
     "execution_count": 13,
     "metadata": {},
     "output_type": "execute_result"
    }
   ],
   "source": [
    "myfile.read()"
   ]
  },
  {
   "cell_type": "code",
   "execution_count": 14,
   "id": "c930198a",
   "metadata": {},
   "outputs": [
    {
     "data": {
      "text/plain": [
       "0"
      ]
     },
     "execution_count": 14,
     "metadata": {},
     "output_type": "execute_result"
    }
   ],
   "source": [
    "myfile.seek(0)"
   ]
  },
  {
   "cell_type": "code",
   "execution_count": 15,
   "id": "921ffd5c",
   "metadata": {},
   "outputs": [],
   "source": [
    "contents=myfile.read()"
   ]
  },
  {
   "cell_type": "code",
   "execution_count": 16,
   "id": "b30c5623",
   "metadata": {},
   "outputs": [
    {
     "data": {
      "text/plain": [
       "'Hello, this is a text file\\nthis is the 2nd line\\nthis is 3rd line\\n'"
      ]
     },
     "execution_count": 16,
     "metadata": {},
     "output_type": "execute_result"
    }
   ],
   "source": [
    "contents"
   ]
  },
  {
   "cell_type": "code",
   "execution_count": 20,
   "id": "55416267",
   "metadata": {},
   "outputs": [
    {
     "data": {
      "text/plain": [
       "''"
      ]
     },
     "execution_count": 20,
     "metadata": {},
     "output_type": "execute_result"
    }
   ],
   "source": [
    "myfile.read()"
   ]
  },
  {
   "cell_type": "code",
   "execution_count": 22,
   "id": "4bd54af7",
   "metadata": {},
   "outputs": [
    {
     "data": {
      "text/plain": [
       "0"
      ]
     },
     "execution_count": 22,
     "metadata": {},
     "output_type": "execute_result"
    }
   ],
   "source": [
    "myfile.seek(0)"
   ]
  },
  {
   "cell_type": "code",
   "execution_count": 23,
   "id": "cd6d2014",
   "metadata": {},
   "outputs": [
    {
     "data": {
      "text/plain": [
       "['Hello, this is a text file\\n',\n",
       " 'this is the 2nd line\\n',\n",
       " 'this is 3rd line\\n']"
      ]
     },
     "execution_count": 23,
     "metadata": {},
     "output_type": "execute_result"
    }
   ],
   "source": [
    "myfile.readlines()\n",
    "#grab a list where each element represents a line"
   ]
  },
  {
   "cell_type": "code",
   "execution_count": null,
   "id": "1de04f5d",
   "metadata": {},
   "outputs": [],
   "source": []
  },
  {
   "cell_type": "code",
   "execution_count": 16,
   "id": "ce5b6fe6",
   "metadata": {},
   "outputs": [],
   "source": [
    "#file locations\n"
   ]
  },
  {
   "cell_type": "markdown",
   "id": "e2a43b6c",
   "metadata": {},
   "source": [
    "For Windows we need to use double \\ so python doesn't treat the second \\ as an escape character, a file path is in the form:\n",
    "\n",
    "myfile = open(\"C:\\\\Users\\\\YourUserName\\\\Home\\\\Folder\\\\myfile.txt\")"
   ]
  },
  {
   "cell_type": "code",
   "execution_count": 29,
   "id": "5feec08c",
   "metadata": {},
   "outputs": [
    {
     "data": {
      "text/plain": [
       "'C:\\\\Users\\\\Vandana\\\\Downloads\\\\pythonstuffs'"
      ]
     },
     "execution_count": 29,
     "metadata": {},
     "output_type": "execute_result"
    }
   ],
   "source": [
    "pwd"
   ]
  },
  {
   "cell_type": "code",
   "execution_count": 20,
   "id": "9325ef45",
   "metadata": {},
   "outputs": [],
   "source": [
    "#best practices for opening and closing files\n",
    "#When you have finished using a file, it is always good practice to close it."
   ]
  },
  {
   "cell_type": "code",
   "execution_count": 21,
   "id": "9c65064d",
   "metadata": {},
   "outputs": [],
   "source": [
    "myfile.close()"
   ]
  },
  {
   "cell_type": "code",
   "execution_count": 24,
   "id": "053e1d48",
   "metadata": {},
   "outputs": [],
   "source": [
    "#to no longer worry aboout closing file\n",
    "with open(\"myfile.txt\") as my_new_file:\n",
    "    contents=my_new_file.read()"
   ]
  },
  {
   "cell_type": "code",
   "execution_count": 25,
   "id": "7bfd16a2",
   "metadata": {},
   "outputs": [
    {
     "data": {
      "text/plain": [
       "'Hello, this is a text file\\nthis is the 2nd line\\nthis is 3rd line\\n'"
      ]
     },
     "execution_count": 25,
     "metadata": {},
     "output_type": "execute_result"
    }
   ],
   "source": [
    "contents"
   ]
  },
  {
   "cell_type": "code",
   "execution_count": null,
   "id": "e6edb4f5",
   "metadata": {},
   "outputs": [],
   "source": []
  },
  {
   "cell_type": "code",
   "execution_count": 28,
   "id": "bc7cbf1a",
   "metadata": {},
   "outputs": [],
   "source": [
    "#bonus: pressing shift+tab next to function name, we get useful info about the function"
   ]
  },
  {
   "cell_type": "code",
   "execution_count": null,
   "id": "98b80178",
   "metadata": {},
   "outputs": [],
   "source": []
  },
  {
   "cell_type": "code",
   "execution_count": 27,
   "id": "54fce9ff",
   "metadata": {},
   "outputs": [],
   "source": [
    "#writing and overwriting files"
   ]
  },
  {
   "cell_type": "code",
   "execution_count": 30,
   "id": "e2ddc03f",
   "metadata": {},
   "outputs": [],
   "source": [
    "with open(\"myfile.txt\", mode='r') as myfile:\n",
    "    content=myfile.read()"
   ]
  },
  {
   "cell_type": "code",
   "execution_count": 31,
   "id": "9fed27e9",
   "metadata": {},
   "outputs": [
    {
     "data": {
      "text/plain": [
       "'Hello, this is a text file\\nthis is the 2nd line\\nthis is 3rd line\\n'"
      ]
     },
     "execution_count": 31,
     "metadata": {},
     "output_type": "execute_result"
    }
   ],
   "source": [
    "contents"
   ]
  },
  {
   "cell_type": "code",
   "execution_count": 33,
   "id": "88af5dd2",
   "metadata": {},
   "outputs": [
    {
     "ename": "UnsupportedOperation",
     "evalue": "not readable",
     "output_type": "error",
     "traceback": [
      "\u001b[1;31m---------------------------------------------------------------------------\u001b[0m",
      "\u001b[1;31mUnsupportedOperation\u001b[0m                      Traceback (most recent call last)",
      "\u001b[1;32m~\\AppData\\Local\\Temp/ipykernel_18740/862525852.py\u001b[0m in \u001b[0;36m<module>\u001b[1;34m\u001b[0m\n\u001b[0;32m      1\u001b[0m \u001b[1;32mwith\u001b[0m \u001b[0mopen\u001b[0m\u001b[1;33m(\u001b[0m\u001b[1;34m\"myfile.txt\"\u001b[0m\u001b[1;33m,\u001b[0m \u001b[0mmode\u001b[0m\u001b[1;33m=\u001b[0m\u001b[1;34m'w'\u001b[0m\u001b[1;33m)\u001b[0m \u001b[1;32mas\u001b[0m \u001b[0mmyfile\u001b[0m\u001b[1;33m:\u001b[0m\u001b[1;33m\u001b[0m\u001b[1;33m\u001b[0m\u001b[0m\n\u001b[1;32m----> 2\u001b[1;33m     \u001b[0mcontent\u001b[0m\u001b[1;33m=\u001b[0m\u001b[0mmyfile\u001b[0m\u001b[1;33m.\u001b[0m\u001b[0mread\u001b[0m\u001b[1;33m(\u001b[0m\u001b[1;33m)\u001b[0m\u001b[1;33m\u001b[0m\u001b[1;33m\u001b[0m\u001b[0m\n\u001b[0m\u001b[0;32m      3\u001b[0m \u001b[1;33m\u001b[0m\u001b[0m\n\u001b[0;32m      4\u001b[0m \u001b[1;33m\u001b[0m\u001b[0m\n\u001b[0;32m      5\u001b[0m     \u001b[1;31m#error beacause mode is not supported\u001b[0m\u001b[1;33m\u001b[0m\u001b[1;33m\u001b[0m\u001b[0m\n",
      "\u001b[1;31mUnsupportedOperation\u001b[0m: not readable"
     ]
    }
   ],
   "source": [
    "with open(\"myfile.txt\", mode='w') as myfile:\n",
    "    content=myfile.read()\n",
    "    \n",
    "    \n",
    "    #error beacause mode is not supported"
   ]
  },
  {
   "cell_type": "markdown",
   "id": "82971f71",
   "metadata": {},
   "source": [
    "#modes\n",
    "\n",
    "mode= 'r' is read only\n",
    "mode=\"w\" is write only(will overwrite or create new)\n",
    "mode=\"a\" is append only\n",
    "mode =\"r+\" is reading and writing\n",
    "mode  =\"w+\" is writing and reading (overwrites existing files or creates a new file"
   ]
  },
  {
   "cell_type": "code",
   "execution_count": 40,
   "id": "482da4f0",
   "metadata": {},
   "outputs": [
    {
     "name": "stdout",
     "output_type": "stream",
     "text": [
      "Overwriting my_new_file.txt\n"
     ]
    }
   ],
   "source": [
    "%%writefile my_new_file.txt\n",
    "one\n",
    "two\n",
    "three"
   ]
  },
  {
   "cell_type": "code",
   "execution_count": 41,
   "id": "3dbcce87",
   "metadata": {},
   "outputs": [
    {
     "name": "stdout",
     "output_type": "stream",
     "text": [
      "one\n",
      "two\n",
      "three\n",
      "\n"
     ]
    }
   ],
   "source": [
    "with open(\"my_new_file.txt\", mode=\"r\") as f:\n",
    "    print(f.read())"
   ]
  },
  {
   "cell_type": "code",
   "execution_count": 42,
   "id": "864ec881",
   "metadata": {},
   "outputs": [],
   "source": [
    "with open(\"my_new_file.txt\", mode=\"a\") as f:\n",
    "    f.write(\"\\nfour\")"
   ]
  },
  {
   "cell_type": "code",
   "execution_count": 43,
   "id": "983dcc03",
   "metadata": {},
   "outputs": [
    {
     "name": "stdout",
     "output_type": "stream",
     "text": [
      "one\n",
      "two\n",
      "three\n",
      "\n",
      "four\n"
     ]
    }
   ],
   "source": [
    "with open(\"my_new_file.txt\", mode=\"r\") as f:\n",
    "    print(f.read())"
   ]
  },
  {
   "cell_type": "code",
   "execution_count": 44,
   "id": "6689b3c6",
   "metadata": {},
   "outputs": [],
   "source": [
    "with open(\"adadafasf.txt\", mode=\"w\")as f:\n",
    "    f.write(\"new file auto created\")"
   ]
  },
  {
   "cell_type": "code",
   "execution_count": 45,
   "id": "c8080224",
   "metadata": {},
   "outputs": [
    {
     "name": "stdout",
     "output_type": "stream",
     "text": [
      "new file auto created\n"
     ]
    }
   ],
   "source": [
    "with open(\"adadafasf.txt\", mode=\"r\" ) as f:\n",
    "    print(f.read())"
   ]
  },
  {
   "cell_type": "code",
   "execution_count": null,
   "id": "b9075333",
   "metadata": {},
   "outputs": [],
   "source": []
  },
  {
   "cell_type": "code",
   "execution_count": null,
   "id": "b5770578",
   "metadata": {},
   "outputs": [],
   "source": []
  }
 ],
 "metadata": {
  "kernelspec": {
   "display_name": "Python 3 (ipykernel)",
   "language": "python",
   "name": "python3"
  },
  "language_info": {
   "codemirror_mode": {
    "name": "ipython",
    "version": 3
   },
   "file_extension": ".py",
   "mimetype": "text/x-python",
   "name": "python",
   "nbconvert_exporter": "python",
   "pygments_lexer": "ipython3",
   "version": "3.9.7"
  }
 },
 "nbformat": 4,
 "nbformat_minor": 5
}
