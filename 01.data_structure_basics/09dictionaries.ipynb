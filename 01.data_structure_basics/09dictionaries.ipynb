{
 "cells": [
  {
   "cell_type": "markdown",
   "id": "b18a0fe2",
   "metadata": {},
   "source": [
    "dictionaries are unordered mappings for storing objects\n",
    "while list store ordered sequences\n",
    "dictionaries use a key-value pair\n",
    "\n",
    "syntax:\n",
    "{'key1': 'value1', 'key2':'value2'}\n",
    "\n",
    "\n",
    "objects are retrieved by key name, cannot be indexed or sliced or sorted"
   ]
  },
  {
   "cell_type": "code",
   "execution_count": 3,
   "id": "8eb70966",
   "metadata": {},
   "outputs": [],
   "source": [
    "my_dict={\"key1\":\"value1\",\"key2\":\"value2\"} "
   ]
  },
  {
   "cell_type": "code",
   "execution_count": 4,
   "id": "2bb8344e",
   "metadata": {},
   "outputs": [
    {
     "data": {
      "text/plain": [
       "{'key1': 'value1', 'key2': 'value2'}"
      ]
     },
     "execution_count": 4,
     "metadata": {},
     "output_type": "execute_result"
    }
   ],
   "source": [
    "my_dict"
   ]
  },
  {
   "cell_type": "code",
   "execution_count": 5,
   "id": "24325ecb",
   "metadata": {},
   "outputs": [
    {
     "data": {
      "text/plain": [
       "'value1'"
      ]
     },
     "execution_count": 5,
     "metadata": {},
     "output_type": "execute_result"
    }
   ],
   "source": [
    "my_dict[\"key1\"]"
   ]
  },
  {
   "cell_type": "code",
   "execution_count": 8,
   "id": "42ac0130",
   "metadata": {},
   "outputs": [],
   "source": [
    "prices={\"apple\":250,\"condom\":100.22,\"lindt\":\"450\"}"
   ]
  },
  {
   "cell_type": "code",
   "execution_count": 9,
   "id": "2440d0f9",
   "metadata": {},
   "outputs": [
    {
     "data": {
      "text/plain": [
       "250"
      ]
     },
     "execution_count": 9,
     "metadata": {},
     "output_type": "execute_result"
    }
   ],
   "source": [
    "prices[\"apple\"]"
   ]
  },
  {
   "cell_type": "code",
   "execution_count": null,
   "id": "3ced382e",
   "metadata": {},
   "outputs": [],
   "source": []
  },
  {
   "cell_type": "code",
   "execution_count": 10,
   "id": "45e8094b",
   "metadata": {},
   "outputs": [],
   "source": [
    "d={\"k1\":123,\"k2\":[0,1,2],\"k3\":{\"insidekey\":100}}"
   ]
  },
  {
   "cell_type": "code",
   "execution_count": 11,
   "id": "ad39ea1e",
   "metadata": {},
   "outputs": [
    {
     "data": {
      "text/plain": [
       "{'k1': 123, 'k2': [0, 1, 2], 'k3': {'insidekey': 100}}"
      ]
     },
     "execution_count": 11,
     "metadata": {},
     "output_type": "execute_result"
    }
   ],
   "source": [
    "d"
   ]
  },
  {
   "cell_type": "code",
   "execution_count": 13,
   "id": "964831e3",
   "metadata": {},
   "outputs": [
    {
     "data": {
      "text/plain": [
       "[0, 1, 2]"
      ]
     },
     "execution_count": 13,
     "metadata": {},
     "output_type": "execute_result"
    }
   ],
   "source": [
    "d[\"k2\"]"
   ]
  },
  {
   "cell_type": "code",
   "execution_count": 14,
   "id": "d3b6794b",
   "metadata": {},
   "outputs": [
    {
     "data": {
      "text/plain": [
       "100"
      ]
     },
     "execution_count": 14,
     "metadata": {},
     "output_type": "execute_result"
    }
   ],
   "source": [
    "d[\"k3\"][\"insidekey\"]"
   ]
  },
  {
   "cell_type": "code",
   "execution_count": null,
   "id": "91f74bc0",
   "metadata": {},
   "outputs": [],
   "source": [
    "\n"
   ]
  },
  {
   "cell_type": "code",
   "execution_count": 15,
   "id": "75092812",
   "metadata": {},
   "outputs": [],
   "source": [
    "d={\"key1\":[\"a\",\"b\",\"c\"]}"
   ]
  },
  {
   "cell_type": "code",
   "execution_count": 17,
   "id": "ca4f70d0",
   "metadata": {},
   "outputs": [],
   "source": [
    "#we need to change case of a letter from the list of the dictionary\n",
    "mylist=d[\"key1\"]"
   ]
  },
  {
   "cell_type": "code",
   "execution_count": 18,
   "id": "7910237a",
   "metadata": {},
   "outputs": [
    {
     "data": {
      "text/plain": [
       "['a', 'b', 'c']"
      ]
     },
     "execution_count": 18,
     "metadata": {},
     "output_type": "execute_result"
    }
   ],
   "source": [
    "mylist"
   ]
  },
  {
   "cell_type": "code",
   "execution_count": 19,
   "id": "c75411e0",
   "metadata": {},
   "outputs": [],
   "source": [
    "letter= mylist[2]"
   ]
  },
  {
   "cell_type": "code",
   "execution_count": 20,
   "id": "a41fd125",
   "metadata": {},
   "outputs": [
    {
     "data": {
      "text/plain": [
       "'c'"
      ]
     },
     "execution_count": 20,
     "metadata": {},
     "output_type": "execute_result"
    }
   ],
   "source": [
    "letter"
   ]
  },
  {
   "cell_type": "code",
   "execution_count": 21,
   "id": "09eb3a54",
   "metadata": {},
   "outputs": [
    {
     "data": {
      "text/plain": [
       "'C'"
      ]
     },
     "execution_count": 21,
     "metadata": {},
     "output_type": "execute_result"
    }
   ],
   "source": [
    "letter.upper()"
   ]
  },
  {
   "cell_type": "code",
   "execution_count": 22,
   "id": "6d7b5126",
   "metadata": {},
   "outputs": [
    {
     "data": {
      "text/plain": [
       "'C'"
      ]
     },
     "execution_count": 22,
     "metadata": {},
     "output_type": "execute_result"
    }
   ],
   "source": [
    "#alternatively\n",
    "d[\"key1\"][2].upper()"
   ]
  },
  {
   "cell_type": "code",
   "execution_count": null,
   "id": "50bd99ef",
   "metadata": {},
   "outputs": [],
   "source": []
  },
  {
   "cell_type": "code",
   "execution_count": 23,
   "id": "c361f81e",
   "metadata": {},
   "outputs": [],
   "source": [
    "#adding new valyue to a dict"
   ]
  },
  {
   "cell_type": "code",
   "execution_count": 26,
   "id": "7fd0aca7",
   "metadata": {},
   "outputs": [],
   "source": [
    "dick={\"key1\":\"value1\",\"key2\":\"value2\"}\n",
    "dick[\"k3\"]=100"
   ]
  },
  {
   "cell_type": "code",
   "execution_count": 27,
   "id": "debfa9f6",
   "metadata": {},
   "outputs": [
    {
     "data": {
      "text/plain": [
       "{'key1': 'value1', 'key2': 'value2', 'k3': 100}"
      ]
     },
     "execution_count": 27,
     "metadata": {},
     "output_type": "execute_result"
    }
   ],
   "source": [
    "dick"
   ]
  },
  {
   "cell_type": "code",
   "execution_count": 28,
   "id": "6e1c07f4",
   "metadata": {},
   "outputs": [],
   "source": [
    "dick[\"key1\"]=\"newvalue\""
   ]
  },
  {
   "cell_type": "code",
   "execution_count": 29,
   "id": "53591081",
   "metadata": {},
   "outputs": [
    {
     "data": {
      "text/plain": [
       "{'key1': 'newvalue', 'key2': 'value2', 'k3': 100}"
      ]
     },
     "execution_count": 29,
     "metadata": {},
     "output_type": "execute_result"
    }
   ],
   "source": [
    "dick"
   ]
  },
  {
   "cell_type": "code",
   "execution_count": null,
   "id": "1141f5d3",
   "metadata": {},
   "outputs": [],
   "source": []
  },
  {
   "cell_type": "code",
   "execution_count": 30,
   "id": "25c03f03",
   "metadata": {},
   "outputs": [],
   "source": [
    "#returning keys or values"
   ]
  },
  {
   "cell_type": "code",
   "execution_count": 31,
   "id": "4b649394",
   "metadata": {},
   "outputs": [],
   "source": [
    "dick={'key1': 'value1', 'key2': 'value2', 'k3': 100}"
   ]
  },
  {
   "cell_type": "code",
   "execution_count": 33,
   "id": "4be6f246",
   "metadata": {},
   "outputs": [
    {
     "data": {
      "text/plain": [
       "dict_keys(['key1', 'key2', 'k3'])"
      ]
     },
     "execution_count": 33,
     "metadata": {},
     "output_type": "execute_result"
    }
   ],
   "source": [
    "dick.keys()"
   ]
  },
  {
   "cell_type": "code",
   "execution_count": 34,
   "id": "4320cced",
   "metadata": {},
   "outputs": [
    {
     "data": {
      "text/plain": [
       "dict_values(['value1', 'value2', 100])"
      ]
     },
     "execution_count": 34,
     "metadata": {},
     "output_type": "execute_result"
    }
   ],
   "source": [
    "dick.values()"
   ]
  },
  {
   "cell_type": "code",
   "execution_count": 36,
   "id": "b2cb98b7",
   "metadata": {},
   "outputs": [
    {
     "data": {
      "text/plain": [
       "dict_items([('key1', 'value1'), ('key2', 'value2'), ('k3', 100)])"
      ]
     },
     "execution_count": 36,
     "metadata": {},
     "output_type": "execute_result"
    }
   ],
   "source": [
    "dick.items()\n",
    "#returns items as tuples, i.e, (\"key\",\"value\")"
   ]
  },
  {
   "cell_type": "code",
   "execution_count": null,
   "id": "fa42d3bf",
   "metadata": {},
   "outputs": [],
   "source": []
  },
  {
   "cell_type": "code",
   "execution_count": 37,
   "id": "ff1142aa",
   "metadata": {},
   "outputs": [],
   "source": [
    "#if we want capability of dictionary as well as ordering with it, we use ordereddict"
   ]
  },
  {
   "cell_type": "code",
   "execution_count": null,
   "id": "9b2d04a8",
   "metadata": {},
   "outputs": [],
   "source": []
  }
 ],
 "metadata": {
  "kernelspec": {
   "display_name": "Python 3 (ipykernel)",
   "language": "python",
   "name": "python3"
  },
  "language_info": {
   "codemirror_mode": {
    "name": "ipython",
    "version": 3
   },
   "file_extension": ".py",
   "mimetype": "text/x-python",
   "name": "python",
   "nbconvert_exporter": "python",
   "pygments_lexer": "ipython3",
   "version": "3.9.7"
  }
 },
 "nbformat": 4,
 "nbformat_minor": 5
}
