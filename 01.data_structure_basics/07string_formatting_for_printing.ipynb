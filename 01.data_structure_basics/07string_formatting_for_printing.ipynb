{
 "cells": [
  {
   "cell_type": "code",
   "execution_count": null,
   "id": "5e85e58e",
   "metadata": {},
   "outputs": [],
   "source": [
    "#formatting with new style"
   ]
  },
  {
   "cell_type": "code",
   "execution_count": 4,
   "id": "ff376d16",
   "metadata": {
    "scrolled": true
   },
   "outputs": [
    {
     "data": {
      "text/plain": [
       "'last nightram scored 8 goals'"
      ]
     },
     "execution_count": 4,
     "metadata": {},
     "output_type": "execute_result"
    }
   ],
   "source": [
    "#concatenation of string\n",
    "player=\"ram\"\n",
    "goals=8\n",
    "\"last night\"+player+\" scored \"+ str(goals) +\" goals\""
   ]
  },
  {
   "cell_type": "markdown",
   "id": "48da559a",
   "metadata": {},
   "source": [
    "#concatenation of variable with string is also called string interpolation\n",
    ".format() method\n",
    "f-string method"
   ]
  },
  {
   "cell_type": "markdown",
   "id": "8350a141",
   "metadata": {},
   "source": [
    ".format()\n",
    "\n",
    "\"string here {} then also {}\".format(\"something1\",\"something2\")"
   ]
  },
  {
   "cell_type": "code",
   "execution_count": 6,
   "id": "084d80fa",
   "metadata": {},
   "outputs": [
    {
     "name": "stdout",
     "output_type": "stream",
     "text": [
      "the last letter is 6\n"
     ]
    }
   ],
   "source": [
    "print(\"the last letter is {}\".format(6))"
   ]
  },
  {
   "cell_type": "code",
   "execution_count": 7,
   "id": "83c8b41e",
   "metadata": {},
   "outputs": [
    {
     "data": {
      "text/plain": [
       "'the last word is hello'"
      ]
     },
     "execution_count": 7,
     "metadata": {},
     "output_type": "execute_result"
    }
   ],
   "source": [
    "'the last word is {}'.format(\"hello\")"
   ]
  },
  {
   "cell_type": "code",
   "execution_count": 8,
   "id": "8d248277",
   "metadata": {},
   "outputs": [
    {
     "data": {
      "text/plain": [
       "'I love u'"
      ]
     },
     "execution_count": 8,
     "metadata": {},
     "output_type": "execute_result"
    }
   ],
   "source": [
    "\"{2} {0} {1}\".format(\"love\",\"u\",\"I\")"
   ]
  },
  {
   "cell_type": "code",
   "execution_count": 10,
   "id": "5c5a6d97",
   "metadata": {},
   "outputs": [
    {
     "name": "stdout",
     "output_type": "stream",
     "text": [
      "I love u\n"
     ]
    }
   ],
   "source": [
    "print(\"{2} {0} {1}\".format(\"love\",\"u\",\"I\"))"
   ]
  },
  {
   "cell_type": "code",
   "execution_count": 13,
   "id": "0e07c4e0",
   "metadata": {},
   "outputs": [
    {
     "name": "stdout",
     "output_type": "stream",
     "text": [
      "love love love\n"
     ]
    }
   ],
   "source": [
    "print(\"{0} {0} {0}\".format(\"love\",\"u\",\"I\"))"
   ]
  },
  {
   "cell_type": "code",
   "execution_count": 15,
   "id": "75c2d0bc",
   "metadata": {},
   "outputs": [
    {
     "name": "stdout",
     "output_type": "stream",
     "text": [
      "the quick brown fox\n"
     ]
    }
   ],
   "source": [
    "print(\"the {q} {b} {f}\".format(f=\"fox\",q=\"quick\", b=\"brown\"))"
   ]
  },
  {
   "cell_type": "code",
   "execution_count": 16,
   "id": "06c30d5a",
   "metadata": {},
   "outputs": [],
   "source": [
    "#    float formatting \n",
    "#   \"{value:width.precision f}\"\n"
   ]
  },
  {
   "cell_type": "code",
   "execution_count": 17,
   "id": "89859a9c",
   "metadata": {},
   "outputs": [],
   "source": [
    "result= 100/777"
   ]
  },
  {
   "cell_type": "code",
   "execution_count": 18,
   "id": "55294e75",
   "metadata": {},
   "outputs": [
    {
     "data": {
      "text/plain": [
       "0.1287001287001287"
      ]
     },
     "execution_count": 18,
     "metadata": {},
     "output_type": "execute_result"
    }
   ],
   "source": [
    "result"
   ]
  },
  {
   "cell_type": "code",
   "execution_count": 19,
   "id": "aaa4a114",
   "metadata": {},
   "outputs": [
    {
     "name": "stdout",
     "output_type": "stream",
     "text": [
      "8\n"
     ]
    }
   ],
   "source": [
    "print(8)"
   ]
  },
  {
   "cell_type": "code",
   "execution_count": 20,
   "id": "bfbdf501",
   "metadata": {},
   "outputs": [
    {
     "name": "stdout",
     "output_type": "stream",
     "text": [
      "the result was 0.1287001287001287\n"
     ]
    }
   ],
   "source": [
    "print(\"the result was {r}\".format(r=result))"
   ]
  },
  {
   "cell_type": "code",
   "execution_count": 21,
   "id": "a61ca148",
   "metadata": {},
   "outputs": [
    {
     "name": "stdout",
     "output_type": "stream",
     "text": [
      "the result was 0.129\n"
     ]
    }
   ],
   "source": [
    "print(\"the result was {r:1.3f}\".format(r=result))"
   ]
  },
  {
   "cell_type": "code",
   "execution_count": 22,
   "id": "5f768256",
   "metadata": {},
   "outputs": [
    {
     "name": "stdout",
     "output_type": "stream",
     "text": [
      "the result was      0.129\n"
     ]
    }
   ],
   "source": [
    "print(\"the result was {r:10.3f}\".format(r=result))"
   ]
  },
  {
   "cell_type": "code",
   "execution_count": null,
   "id": "ab834fb3",
   "metadata": {},
   "outputs": [],
   "source": []
  },
  {
   "cell_type": "markdown",
   "id": "37ddd334",
   "metadata": {},
   "source": [
    "f-strings method:\n"
   ]
  },
  {
   "cell_type": "code",
   "execution_count": 23,
   "id": "2c8471ba",
   "metadata": {},
   "outputs": [],
   "source": [
    "name=\"jose\""
   ]
  },
  {
   "cell_type": "code",
   "execution_count": 24,
   "id": "c3217534",
   "metadata": {},
   "outputs": [
    {
     "name": "stdout",
     "output_type": "stream",
     "text": [
      "hello, his name is jose\n"
     ]
    }
   ],
   "source": [
    "print(\"hello, his name is {}\". format(name))"
   ]
  },
  {
   "cell_type": "code",
   "execution_count": 27,
   "id": "4762cc3a",
   "metadata": {},
   "outputs": [
    {
     "name": "stdout",
     "output_type": "stream",
     "text": [
      "hello, his name is jose\n"
     ]
    }
   ],
   "source": [
    "print(f\"hello, his name is {name}\")"
   ]
  },
  {
   "cell_type": "code",
   "execution_count": 28,
   "id": "59e16840",
   "metadata": {},
   "outputs": [],
   "source": [
    "name=\"sam\"\n",
    "age=3"
   ]
  },
  {
   "cell_type": "code",
   "execution_count": 29,
   "id": "7442d07c",
   "metadata": {},
   "outputs": [
    {
     "name": "stdout",
     "output_type": "stream",
     "text": [
      "his name is sam and he is 3 years old\n"
     ]
    }
   ],
   "source": [
    "print(f\"his name is {name} and he is {age} years old\")"
   ]
  },
  {
   "cell_type": "code",
   "execution_count": null,
   "id": "a287fcf5",
   "metadata": {},
   "outputs": [],
   "source": []
  },
  {
   "cell_type": "code",
   "execution_count": 37,
   "id": "c4bb2127",
   "metadata": {},
   "outputs": [
    {
     "data": {
      "text/plain": [
       "'   test   '"
      ]
     },
     "execution_count": 37,
     "metadata": {},
     "output_type": "execute_result"
    }
   ],
   "source": [
    "#center align\n",
    "\"{:^10}\".format('test')"
   ]
  },
  {
   "cell_type": "code",
   "execution_count": 38,
   "id": "a49431ea",
   "metadata": {},
   "outputs": [
    {
     "data": {
      "text/plain": [
       "'xylop'"
      ]
     },
     "execution_count": 38,
     "metadata": {},
     "output_type": "execute_result"
    }
   ],
   "source": [
    "#truncating \n",
    "'{:.5}'.format('xylophone')"
   ]
  },
  {
   "cell_type": "code",
   "execution_count": 39,
   "id": "8a029d51",
   "metadata": {},
   "outputs": [
    {
     "data": {
      "text/plain": [
       "'xylop     '"
      ]
     },
     "execution_count": 39,
     "metadata": {},
     "output_type": "execute_result"
    }
   ],
   "source": [
    "#combining truncating and padding\n",
    "'{:10.5}'.format('xylophone')"
   ]
  },
  {
   "cell_type": "code",
   "execution_count": 40,
   "id": "4775d10f",
   "metadata": {},
   "outputs": [
    {
     "data": {
      "text/plain": [
       "'+42'"
      ]
     },
     "execution_count": 40,
     "metadata": {},
     "output_type": "execute_result"
    }
   ],
   "source": [
    "#signed numbers\n",
    "'{:+d}'.format(42)"
   ]
  },
  {
   "cell_type": "code",
   "execution_count": 16,
   "id": "adcbe106",
   "metadata": {},
   "outputs": [
    {
     "data": {
      "text/plain": [
       "'-23'"
      ]
     },
     "execution_count": 16,
     "metadata": {},
     "output_type": "execute_result"
    }
   ],
   "source": [
    "'{:d}'.format((-23))"
   ]
  },
  {
   "cell_type": "code",
   "execution_count": 45,
   "id": "0e89cd59",
   "metadata": {},
   "outputs": [
    {
     "data": {
      "text/plain": [
       "'-23'"
      ]
     },
     "execution_count": 45,
     "metadata": {},
     "output_type": "execute_result"
    }
   ],
   "source": [
    "'{: d}'.format((- 23))"
   ]
  },
  {
   "cell_type": "code",
   "execution_count": 46,
   "id": "0a90524c",
   "metadata": {},
   "outputs": [
    {
     "data": {
      "text/plain": [
       "' 23'"
      ]
     },
     "execution_count": 46,
     "metadata": {},
     "output_type": "execute_result"
    }
   ],
   "source": [
    "#also\n",
    "\n",
    "'{: d}'.format((23))"
   ]
  },
  {
   "cell_type": "code",
   "execution_count": 48,
   "id": "55b79e4c",
   "metadata": {},
   "outputs": [
    {
     "data": {
      "text/plain": [
       "'+  23'"
      ]
     },
     "execution_count": 48,
     "metadata": {},
     "output_type": "execute_result"
    }
   ],
   "source": [
    "\n",
    "'{:=+5d}'.format(23)"
   ]
  },
  {
   "cell_type": "code",
   "execution_count": null,
   "id": "3455c31f",
   "metadata": {},
   "outputs": [],
   "source": [
    "\n"
   ]
  },
  {
   "cell_type": "code",
   "execution_count": 19,
   "id": "a94b0e71",
   "metadata": {},
   "outputs": [
    {
     "data": {
      "text/plain": [
       "'Hodor Hodor!'"
      ]
     },
     "execution_count": 19,
     "metadata": {},
     "output_type": "execute_result"
    }
   ],
   "source": [
    "data = {'first': 'Hodor', 'last': 'Hodor!'}\n",
    "\n",
    "'{first} {last}'.format(**data)"
   ]
  },
  {
   "cell_type": "code",
   "execution_count": null,
   "id": "2964bbb7",
   "metadata": {},
   "outputs": [],
   "source": []
  },
  {
   "cell_type": "code",
   "execution_count": 52,
   "id": "36e982d1",
   "metadata": {},
   "outputs": [
    {
     "data": {
      "text/plain": [
       "'Jean-Luc Picard'"
      ]
     },
     "execution_count": 52,
     "metadata": {},
     "output_type": "execute_result"
    }
   ],
   "source": [
    "#Getitem and Getattr\n",
    "person = {'first': 'Jean-Luc', 'last': 'Picard'}\n",
    "\n",
    "'{p[first]} {p[last]}'.format(p=person)\n"
   ]
  },
  {
   "cell_type": "code",
   "execution_count": 53,
   "id": "b98de036",
   "metadata": {},
   "outputs": [
    {
     "data": {
      "text/plain": [
       "'23 42'"
      ]
     },
     "execution_count": 53,
     "metadata": {},
     "output_type": "execute_result"
    }
   ],
   "source": [
    "#also\n",
    "data = [4, 8, 15, 16, 23, 42]\n",
    "'{d[4]} {d[5]}'.format(d=data)"
   ]
  },
  {
   "cell_type": "code",
   "execution_count": 1,
   "id": "80fb361f",
   "metadata": {},
   "outputs": [
    {
     "data": {
      "text/plain": [
       "'i love u'"
      ]
     },
     "execution_count": 1,
     "metadata": {},
     "output_type": "execute_result"
    }
   ],
   "source": [
    "\"{2} {0} {1}\".format(\"love\",\"u\",\"i\")"
   ]
  },
  {
   "cell_type": "code",
   "execution_count": 5,
   "id": "5d3926b4",
   "metadata": {},
   "outputs": [
    {
     "data": {
      "text/plain": [
       "'rsult was 12345.000000'"
      ]
     },
     "execution_count": 5,
     "metadata": {},
     "output_type": "execute_result"
    }
   ],
   "source": [
    "\"rsult was {r:5f}\".format(r=12345)"
   ]
  },
  {
   "cell_type": "code",
   "execution_count": 8,
   "id": "6891e896",
   "metadata": {},
   "outputs": [
    {
     "data": {
      "text/plain": [
       "'this is rr, 3years'"
      ]
     },
     "execution_count": 8,
     "metadata": {},
     "output_type": "execute_result"
    }
   ],
   "source": [
    "name=\"rr\"\n",
    "age=3\n",
    "f\"this is {name}, {age}years\""
   ]
  },
  {
   "cell_type": "code",
   "execution_count": 14,
   "id": "ff2cb5e0",
   "metadata": {},
   "outputs": [
    {
     "data": {
      "text/plain": [
       "'education '"
      ]
     },
     "execution_count": 14,
     "metadata": {},
     "output_type": "execute_result"
    }
   ],
   "source": [
    "\"{:^10}\".format('education')"
   ]
  },
  {
   "cell_type": "code",
   "execution_count": 20,
   "id": "fb7781c4",
   "metadata": {},
   "outputs": [
    {
     "ename": "IndexError",
     "evalue": "list index out of range",
     "output_type": "error",
     "traceback": [
      "\u001b[1;31m---------------------------------------------------------------------------\u001b[0m",
      "\u001b[1;31mIndexError\u001b[0m                                Traceback (most recent call last)",
      "\u001b[1;32m~\\AppData\\Local\\Temp/ipykernel_13220/1580596226.py\u001b[0m in \u001b[0;36m<module>\u001b[1;34m\u001b[0m\n\u001b[0;32m      1\u001b[0m \u001b[0mdata\u001b[0m \u001b[1;33m=\u001b[0m \u001b[1;33m[\u001b[0m\u001b[1;36m4\u001b[0m\u001b[1;33m,\u001b[0m \u001b[1;36m8\u001b[0m\u001b[1;33m,\u001b[0m \u001b[1;36m15\u001b[0m\u001b[1;33m,\u001b[0m \u001b[1;36m16\u001b[0m\u001b[1;33m,\u001b[0m \u001b[1;36m23\u001b[0m\u001b[1;33m,\u001b[0m \u001b[1;36m42\u001b[0m\u001b[1;33m]\u001b[0m\u001b[1;33m\u001b[0m\u001b[1;33m\u001b[0m\u001b[0m\n\u001b[1;32m----> 2\u001b[1;33m \u001b[1;34m'{d[4]} {d[6]}'\u001b[0m\u001b[1;33m.\u001b[0m\u001b[0mformat\u001b[0m\u001b[1;33m(\u001b[0m\u001b[0md\u001b[0m\u001b[1;33m=\u001b[0m\u001b[0mdata\u001b[0m\u001b[1;33m)\u001b[0m\u001b[1;33m\u001b[0m\u001b[1;33m\u001b[0m\u001b[0m\n\u001b[0m",
      "\u001b[1;31mIndexError\u001b[0m: list index out of range"
     ]
    }
   ],
   "source": [
    "data = [4, 8, 15, 16, 23, 42]\n",
    "'{d[4]} {d[6]}'.format(d=data)"
   ]
  },
  {
   "cell_type": "code",
   "execution_count": null,
   "id": "27588c44",
   "metadata": {},
   "outputs": [],
   "source": []
  }
 ],
 "metadata": {
  "kernelspec": {
   "display_name": "Python 3 (ipykernel)",
   "language": "python",
   "name": "python3"
  },
  "language_info": {
   "codemirror_mode": {
    "name": "ipython",
    "version": 3
   },
   "file_extension": ".py",
   "mimetype": "text/x-python",
   "name": "python",
   "nbconvert_exporter": "python",
   "pygments_lexer": "ipython3",
   "version": "3.9.7"
  }
 },
 "nbformat": 4,
 "nbformat_minor": 5
}
